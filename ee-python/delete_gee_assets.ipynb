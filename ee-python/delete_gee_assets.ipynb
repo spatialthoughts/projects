{
 "cells": [
  {
   "cell_type": "markdown",
   "metadata": {
    "colab_type": "text",
    "id": "view-in-github"
   },
   "source": [
    "<a href=\"https://colab.research.google.com/github/spatialthoughts/projects/blob/master/ee-python/delete_gee_assets.ipynb\" target=\"_parent\"><img src=\"https://colab.research.google.com/assets/colab-badge.svg\" alt=\"Open In Colab\"/></a>"
   ]
  },
  {
   "cell_type": "markdown",
   "metadata": {
    "id": "1941iYEFRRIL"
   },
   "source": [
    "# Delete GEE Assets Recursively\n",
    "\n",
    "Notebook to delete all assets from a folder/collection recursively. \n",
    "\n",
    "*Warning: The delete operation is not reversible. Check the list of assets before uncommenting the line to delete.*"
   ]
  },
  {
   "cell_type": "code",
   "execution_count": 1,
   "metadata": {
    "id": "9wz0EtbcNhtK"
   },
   "outputs": [],
   "source": [
    "import ee"
   ]
  },
  {
   "cell_type": "code",
   "execution_count": null,
   "metadata": {},
   "outputs": [],
   "source": [
    "# Replace the cloud_project with your own project\n",
    "cloud_project = 'spatialthoughts'\n",
    "\n",
    "try:\n",
    "    ee.Initialize(project=cloud_project)\n",
    "except:\n",
    "    ee.Authenticate()\n",
    "    ee.Initialize(project=cloud_project)"
   ]
  },
  {
   "cell_type": "code",
   "execution_count": 13,
   "metadata": {
    "id": "hlBiTb8YNoFf"
   },
   "outputs": [],
   "source": [
    "def get_asset_list(parent):\n",
    "    parent_asset = ee.data.getAsset(parent)\n",
    "    parent_id = parent_asset['name']\n",
    "    parent_type = parent_asset['type']\n",
    "    asset_list = []\n",
    "    child_assets = ee.data.listAssets({'parent': parent_id})['assets']\n",
    "    for child_asset in child_assets:\n",
    "        child_id = child_asset['name']\n",
    "        child_type = child_asset['type']\n",
    "        if child_type in ['FOLDER','IMAGE_COLLECTION']:\n",
    "            # Recursively call the function to get child assets\n",
    "            asset_list.extend(get_asset_list(child_id))\n",
    "        else:\n",
    "            asset_list.append(child_id)\n",
    "    return asset_list\n",
    "\n",
    "parent = 'users/ujavalgandhi/temp'\n",
    "all_assets = get_asset_list(parent)"
   ]
  },
  {
   "cell_type": "code",
   "execution_count": null,
   "metadata": {
    "id": "BVxA3jdjOBHO"
   },
   "outputs": [],
   "source": [
    "all_assets"
   ]
  },
  {
   "cell_type": "markdown",
   "metadata": {
    "id": "Zra-KDYrRpFX"
   },
   "source": [
    "Uncomment the line below to run the delete operation."
   ]
  },
  {
   "cell_type": "code",
   "execution_count": null,
   "metadata": {
    "id": "GXY6jQaVOC1l"
   },
   "outputs": [],
   "source": [
    "for asset in all_assets:\n",
    "    print(asset)\n",
    "    #ee.data.deleteAsset(asset)"
   ]
  }
 ],
 "metadata": {
  "colab": {
   "authorship_tag": "ABX9TyMc/nXmZO8mOmQSB4VDAAgX",
   "include_colab_link": true,
   "name": "delete_gee_assets.ipynb",
   "provenance": []
  },
  "kernelspec": {
   "display_name": "Python 3 (ipykernel)",
   "language": "python",
   "name": "python3"
  },
  "language_info": {
   "codemirror_mode": {
    "name": "ipython",
    "version": 3
   },
   "file_extension": ".py",
   "mimetype": "text/x-python",
   "name": "python",
   "nbconvert_exporter": "python",
   "pygments_lexer": "ipython3",
   "version": "3.12.3"
  }
 },
 "nbformat": 4,
 "nbformat_minor": 4
}
