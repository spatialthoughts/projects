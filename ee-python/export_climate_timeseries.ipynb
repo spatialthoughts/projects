{
 "cells": [
  {
   "cell_type": "markdown",
   "id": "796b1233-fc06-4759-a9d8-84736ed3f4ba",
   "metadata": {},
   "source": [
    "## Exporting Climate Time-Series as COGs"
   ]
  },
  {
   "cell_type": "code",
   "execution_count": 2,
   "id": "9432e434-b0b2-44dd-9936-2165970bfebe",
   "metadata": {
    "id": "JuN5rEoyjmjK"
   },
   "outputs": [],
   "source": [
    "import ee"
   ]
  },
  {
   "cell_type": "code",
   "execution_count": 3,
   "id": "ec567485-3ff9-4f8c-a420-51fa1043ed9e",
   "metadata": {
    "id": "gjRJhBKF2iLf"
   },
   "outputs": [],
   "source": [
    "cloud_project = 'spatialthoughts'\n",
    "\n",
    "try:\n",
    "    ee.Initialize(project=cloud_project)\n",
    "except:\n",
    "    ee.Authenticate()\n",
    "    ee.Initialize(project=cloud_project)"
   ]
  },
  {
   "cell_type": "markdown",
   "id": "707c7164-ae23-4374-a4e7-e52e042179de",
   "metadata": {},
   "source": [
    "#### Pre-Processing"
   ]
  },
  {
   "cell_type": "code",
   "execution_count": 4,
   "id": "9b6e0b09-c20b-4c85-9f7f-c0c6b5f58a45",
   "metadata": {
    "id": "27Bwko2sPWZ2"
   },
   "outputs": [
    {
     "name": "stdout",
     "output_type": "stream",
     "text": [
      "Total images:  12\n"
     ]
    }
   ],
   "source": [
    "terraclimate = ee.ImageCollection('IDAHO_EPSCOR/TERRACLIMATE')\n",
    "# Soil Moisture\n",
    "soil = terraclimate.select('soil')\n",
    "\n",
    "def scale(image):\n",
    "  return image.multiply(0.1) \\\n",
    "    .copyProperties(image,['system:time_start'])\n",
    "\n",
    "soilScaled = soil.map(scale)\n",
    "\n",
    "filtered = soilScaled \\\n",
    "  .filter(ee.Filter.date('2023-01-01', '2025-01-01')) \\\n",
    "\n",
    "image_ids = filtered.aggregate_array('system:index').getInfo()\n",
    "print('Total images: ', len(image_ids))"
   ]
  },
  {
   "cell_type": "markdown",
   "id": "e3efe2ab-bb72-4925-9c9d-fce57a5dd159",
   "metadata": {},
   "source": [
    "#### Export Images"
   ]
  },
  {
   "cell_type": "code",
   "execution_count": 6,
   "id": "64fc5c8b-a121-4419-a55d-793f9f859e79",
   "metadata": {},
   "outputs": [],
   "source": [
    "# Change the bucket name you a bucket where you may write access\n",
    "gcs_bucket_name = 'spatialthoughts-public-data'\n",
    "gcs_bucker_folder = 'terraclimate'"
   ]
  },
  {
   "cell_type": "code",
   "execution_count": 8,
   "id": "90986d50-6d82-48d0-b6d7-1c0a5d6b11b4",
   "metadata": {
    "id": "mbR6LaBDPWZ2"
   },
   "outputs": [
    {
     "name": "stdout",
     "output_type": "stream",
     "text": [
      "Started Task: soil_moisture_202301\n",
      "Started Task: soil_moisture_202302\n",
      "Started Task: soil_moisture_202303\n",
      "Started Task: soil_moisture_202304\n",
      "Started Task: soil_moisture_202305\n",
      "Started Task: soil_moisture_202306\n",
      "Started Task: soil_moisture_202307\n",
      "Started Task: soil_moisture_202308\n",
      "Started Task: soil_moisture_202309\n",
      "Started Task: soil_moisture_202310\n",
      "Started Task: soil_moisture_202311\n",
      "Started Task: soil_moisture_202312\n"
     ]
    }
   ],
   "source": [
    "for i, image_id in enumerate(image_ids):\n",
    "    exportImage = ee.Image(filtered.filter(ee.Filter.eq('system:index', image_id)).first())\n",
    "    geometry = ee.Algorithms.GeometryConstructors.BBox(-180, -90, 180, 90)\n",
    "    task_name = f'soil_moisture_{image_id}'\n",
    "\n",
    "    task = ee.batch.Export.image.toCloudStorage(**{\n",
    "            'image': exportImage,\n",
    "            'description': f'Image_Export_{task_name}',\n",
    "            'fileNamePrefix': f'{gcs_bucker_folder}/{task_name}',\n",
    "            'bucket': gcs_bucket_name,\n",
    "            'region': geometry,\n",
    "            'maxPixels': 1e10,\n",
    "            'formatOptions': {'cloudOptimized': True},\n",
    "        })\n",
    "    task.start()\n",
    "    print(f'Started Task: {task_name}')"
   ]
  },
  {
   "cell_type": "code",
   "execution_count": null,
   "id": "add4426f-d96d-4a50-9ec5-039ba475c0e9",
   "metadata": {},
   "outputs": [],
   "source": []
  }
 ],
 "metadata": {
  "kernelspec": {
   "display_name": "Python 3 (ipykernel)",
   "language": "python",
   "name": "python3"
  },
  "language_info": {
   "codemirror_mode": {
    "name": "ipython",
    "version": 3
   },
   "file_extension": ".py",
   "mimetype": "text/x-python",
   "name": "python",
   "nbconvert_exporter": "python",
   "pygments_lexer": "ipython3",
   "version": "3.13.1"
  }
 },
 "nbformat": 4,
 "nbformat_minor": 5
}
