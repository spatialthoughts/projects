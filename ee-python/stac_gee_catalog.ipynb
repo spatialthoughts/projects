{
 "cells": [
  {
   "cell_type": "markdown",
   "id": "38db78ed-bd76-4386-b4e6-be5acffe7395",
   "metadata": {},
   "source": [
    "##  GEE STAC Catalog\n",
    "\n",
    "Google Earth Engine produces a static catalogUse `pystac_client` package to query a static STAC catalog as a JSON file on Google Cloud Storage.\n",
    "\n",
    "We use PySTAC Client to read and extract information from this catalog.\n",
    " \n",
    "PySTAC Client (`pystac_client`) builds upon PySTAC (`pystac`) through higher-level functionality. Some of the functions are inherited from the `pystac` library"
   ]
  },
  {
   "cell_type": "code",
   "execution_count": 1,
   "id": "f6fe594f-d119-452d-833a-97d5156e3aab",
   "metadata": {},
   "outputs": [],
   "source": [
    "try:\n",
    "    import pystac_client\n",
    "except ModuleNotFoundError:\n",
    "    if 'google.colab' in str(get_ipython()):\n",
    "        !pip install pystac_client -qq\n",
    "    else:\n",
    "        print('pystac_client not found, please install via conda in your environment')"
   ]
  },
  {
   "cell_type": "code",
   "execution_count": 2,
   "id": "f33f7763-1cfa-450e-9fd0-b7af7a1a8880",
   "metadata": {},
   "outputs": [],
   "source": [
    "from pystac_client import Client\n",
    "import pandas as pd"
   ]
  },
  {
   "cell_type": "markdown",
   "id": "40d3d654-6c64-4b48-9fd1-96c9d02e642e",
   "metadata": {},
   "source": [
    "## Catalog\n",
    "\n",
    "A STAC Catalog is a top-level object. Create a STAC Catalog object from the `catalog.json`."
   ]
  },
  {
   "cell_type": "code",
   "execution_count": 3,
   "id": "0bb8a8d4-654f-430b-b1a6-bb7abe80160c",
   "metadata": {},
   "outputs": [],
   "source": [
    "catalog = Client.open('https://earthengine-stac.storage.googleapis.com/catalog/catalog.json')"
   ]
  },
  {
   "cell_type": "markdown",
   "id": "299e40cf-d133-422e-9e88-d16870eb5184",
   "metadata": {},
   "source": [
    "Check the catalog description. The description is in Markdown format, so we format it to HTML."
   ]
  },
  {
   "cell_type": "code",
   "execution_count": 4,
   "id": "2525884f-cf20-442c-9e50-6e5a45d220f6",
   "metadata": {},
   "outputs": [
    {
     "data": {
      "text/markdown": [
       "The [Earth Engine](https://earthengine.google.com/) Public Data Catalog.\n",
       "\n",
       "See also:\n",
       "\n",
       "- [HTML version of the catalog](https://developers.google.com/earth-engine/datasets/catalog)\n",
       "- [STAC Browser version](https://radiantearth.github.io/stac-browser/#/external/storage.googleapis.com/earthengine-stac/catalog/catalog.json)\n"
      ],
      "text/plain": [
       "<IPython.core.display.Markdown object>"
      ]
     },
     "execution_count": 4,
     "metadata": {},
     "output_type": "execute_result"
    }
   ],
   "source": [
    "from IPython.display import Markdown\n",
    "Markdown(catalog.description)"
   ]
  },
  {
   "cell_type": "markdown",
   "id": "96f6eb61-4e5e-4796-ba3e-04514b58def4",
   "metadata": {},
   "source": [
    "There are [many types](https://pystac.readthedocs.io/en/stable/concepts.html#catalog-types) of STAC Catalogs. We check the type of this catalog."
   ]
  },
  {
   "cell_type": "code",
   "execution_count": 5,
   "id": "b4b5a1d9-34dd-4ad0-b480-0918f1aea7c4",
   "metadata": {},
   "outputs": [
    {
     "data": {
      "text/plain": [
       "<CatalogType.ABSOLUTE_PUBLISHED: 'ABSOLUTE_PUBLISHED'>"
      ]
     },
     "execution_count": 5,
     "metadata": {},
     "output_type": "execute_result"
    }
   ],
   "source": [
    "catalog.catalog_type"
   ]
  },
  {
   "cell_type": "markdown",
   "id": "9b2a74b9-e9cc-40ff-a8a4-ec1aa371dfa1",
   "metadata": {},
   "source": [
    "## Collection\n",
    "\n",
    "A STAC Collection is used to group related Items and provide aggregate or summary metadata for those Items.\n",
    "\n",
    "STAC Catalogs may have many nested layers of Catalogs or Collections within the top-level collection."
   ]
  },
  {
   "cell_type": "markdown",
   "id": "466ba94a-ddd4-4caa-9615-fb1b547b13d4",
   "metadata": {},
   "source": [
    "The GEE Catalog contains nested collections, grouped by providers. Here we query for all collections by provider 'USDA'"
   ]
  },
  {
   "cell_type": "code",
   "execution_count": 6,
   "id": "e63e7216-48ba-4359-8040-bb8cc63b128e",
   "metadata": {},
   "outputs": [
    {
     "data": {
      "text/plain": [
       "<Client id=USDA>"
      ]
     },
     "execution_count": 6,
     "metadata": {},
     "output_type": "execute_result"
    }
   ],
   "source": [
    "cols = catalog.get_child('USDA')\n",
    "cols"
   ]
  },
  {
   "cell_type": "markdown",
   "id": "832dc707-11ce-4b1f-a4d6-a0aaa801e81d",
   "metadata": {},
   "source": [
    "We can get a child collection by specifying the id. Since this is a nested collection, we specify `recursive=True`"
   ]
  },
  {
   "cell_type": "code",
   "execution_count": null,
   "id": "c2f48855-00c5-4922-a51e-1773aed3b0e8",
   "metadata": {},
   "outputs": [],
   "source": [
    "col = catalog.get_child('USDA/NAIP/DOQQ', recursive=True)\n",
    "col"
   ]
  },
  {
   "cell_type": "markdown",
   "id": "00b57ece-f233-49e7-ad7f-84ae545ee1f1",
   "metadata": {},
   "source": [
    "The result is a `CollectionClient` object. Let's extract the bsaic information about this collection."
   ]
  },
  {
   "cell_type": "code",
   "execution_count": null,
   "id": "b5065ce8-946a-4c50-b7ba-bbf70235e296",
   "metadata": {},
   "outputs": [],
   "source": [
    "col.title"
   ]
  },
  {
   "cell_type": "code",
   "execution_count": null,
   "id": "c33bf141-78ba-4f15-80a0-09509af01d80",
   "metadata": {},
   "outputs": [],
   "source": [
    "Markdown(col.description)"
   ]
  },
  {
   "cell_type": "markdown",
   "id": "fdd9838d-151e-4c65-bd97-bcf540d9d7ee",
   "metadata": {},
   "source": [
    "A catalog consists of one or more collections. Let's get all the collections from the catalog and iterate through them."
   ]
  },
  {
   "cell_type": "markdown",
   "id": "548f2a85-fb1b-498f-a928-bad4f18a7a82",
   "metadata": {},
   "source": [
    "The collection also has some GEE specific metadata"
   ]
  },
  {
   "cell_type": "code",
   "execution_count": null,
   "id": "2f0c4830-3d40-480b-948a-01b81923b3b4",
   "metadata": {},
   "outputs": [],
   "source": [
    "Markdown(col.extra_fields['gee:terms_of_use'])"
   ]
  },
  {
   "cell_type": "markdown",
   "id": "254432f6-4974-47f6-8205-96694a7c1313",
   "metadata": {},
   "source": [
    "STAC collections have extensions that allows one to specify additional domain specific information. Most remote sensing datasets have fields from the [Electro-Optical (EO)](https://github.com/stac-extensions/eo) extension that can describe the images, bands and their spatial resolutions."
   ]
  },
  {
   "cell_type": "code",
   "execution_count": null,
   "id": "32464a2e-5de4-4177-817c-5e9c8b3af9cd",
   "metadata": {},
   "outputs": [],
   "source": [
    "summaries = col.summaries.to_dict()\n",
    "\n",
    "summaries['eo:bands']"
   ]
  },
  {
   "cell_type": "markdown",
   "id": "10eb2f71-905b-4c7e-a15f-6954f507c111",
   "metadata": {},
   "source": [
    "## Collections\n",
    "\n",
    "We can query the catalog for all collections instead of specifying a single colleciton by id."
   ]
  },
  {
   "cell_type": "code",
   "execution_count": 8,
   "id": "7059a442-c1e0-4243-9e1a-3a889cd888b6",
   "metadata": {},
   "outputs": [],
   "source": [
    "collections = catalog.get_all_collections()"
   ]
  },
  {
   "cell_type": "markdown",
   "id": "4c9f4c00-b199-49ff-aaea-91159fce5134",
   "metadata": {},
   "source": [
    "The `collections` is a generator object. You can iterate over it and extract information fom each [STAC Collection](https://pystac.readthedocs.io/en/stable/api/collection.html) object."
   ]
  },
  {
   "cell_type": "code",
   "execution_count": 11,
   "id": "99a984a6-2147-417d-80ed-3d139a040590",
   "metadata": {},
   "outputs": [],
   "source": [
    "datasets = []\n",
    "\n",
    "for col in catalog.get_all_collections():\n",
    "    datasets.append({\n",
    "        'id': col.id,\n",
    "        'title': col.title,\n",
    "        'description':col.description,\n",
    "        'keywords': col.keywords\n",
    "    })"
   ]
  },
  {
   "cell_type": "markdown",
   "id": "6811b0c1-d899-4b25-9eb0-a806d6b4a69e",
   "metadata": {},
   "source": [
    "Remove all deprecated collections."
   ]
  },
  {
   "cell_type": "code",
   "execution_count": 12,
   "id": "d9263e81-3ba5-46a9-afe3-6eecd496b349",
   "metadata": {},
   "outputs": [],
   "source": [
    "datasets = [d for d in datasets if 'deprecated' not in d['title']]"
   ]
  },
  {
   "cell_type": "markdown",
   "id": "c162c59f-48e9-4530-8f39-f24bb77db3e7",
   "metadata": {},
   "source": [
    "Select all datasets tagged with the keyword `landcover`."
   ]
  },
  {
   "cell_type": "code",
   "execution_count": 13,
   "id": "64f151e0-0cf9-4136-93af-cf15e9453dda",
   "metadata": {},
   "outputs": [],
   "source": [
    "datasets = [d for d in datasets if 'landcover' in d['keywords']]"
   ]
  },
  {
   "cell_type": "markdown",
   "id": "004dc0d6-b898-4503-a1f6-3377201af7a5",
   "metadata": {},
   "source": [
    "Create a Pandas DataFrame."
   ]
  },
  {
   "cell_type": "code",
   "execution_count": 14,
   "id": "d0c345ab-a834-438f-94a9-9a4cb896cda5",
   "metadata": {},
   "outputs": [
    {
     "data": {
      "text/html": [
       "<div>\n",
       "<style scoped>\n",
       "    .dataframe tbody tr th:only-of-type {\n",
       "        vertical-align: middle;\n",
       "    }\n",
       "\n",
       "    .dataframe tbody tr th {\n",
       "        vertical-align: top;\n",
       "    }\n",
       "\n",
       "    .dataframe thead th {\n",
       "        text-align: right;\n",
       "    }\n",
       "</style>\n",
       "<table border=\"1\" class=\"dataframe\">\n",
       "  <thead>\n",
       "    <tr style=\"text-align: right;\">\n",
       "      <th></th>\n",
       "      <th>id</th>\n",
       "      <th>title</th>\n",
       "      <th>description</th>\n",
       "      <th>keywords</th>\n",
       "    </tr>\n",
       "  </thead>\n",
       "  <tbody>\n",
       "    <tr>\n",
       "      <th>0</th>\n",
       "      <td>AAFC/ACI</td>\n",
       "      <td>Canada AAFC Annual Crop Inventory</td>\n",
       "      <td>Starting in 2009, the Earth Observation Team o...</td>\n",
       "      <td>[aafc, canada, crop, landcover]</td>\n",
       "    </tr>\n",
       "    <tr>\n",
       "      <th>1</th>\n",
       "      <td>COPERNICUS/CORINE/V20/100m</td>\n",
       "      <td>Copernicus CORINE Land Cover</td>\n",
       "      <td>The CORINE (coordination of information on the...</td>\n",
       "      <td>[clc, copernicus, corine, eea, esa, eu, landco...</td>\n",
       "    </tr>\n",
       "    <tr>\n",
       "      <th>2</th>\n",
       "      <td>COPERNICUS/Landcover/100m/Proba-V-C3/Global</td>\n",
       "      <td>Copernicus Global Land Cover Layers: CGLS-LC10...</td>\n",
       "      <td>The Copernicus Global Land Service (CGLS) is e...</td>\n",
       "      <td>[copernicus, eea, esa, eu, landcover, proba, p...</td>\n",
       "    </tr>\n",
       "    <tr>\n",
       "      <th>3</th>\n",
       "      <td>CSP/HM/GlobalHumanModification</td>\n",
       "      <td>CSP gHM: Global Human Modification</td>\n",
       "      <td>The global Human Modification dataset (gHM) pr...</td>\n",
       "      <td>[csp, fragmentation, human_modification, landc...</td>\n",
       "    </tr>\n",
       "    <tr>\n",
       "      <th>4</th>\n",
       "      <td>DLR/WSF/WSF2015/v1</td>\n",
       "      <td>World Settlement Footprint 2015</td>\n",
       "      <td>The World Settlement Footprint (WSF) 2015 is a...</td>\n",
       "      <td>[landcover, landsat-derived, sentinel1-derived...</td>\n",
       "    </tr>\n",
       "    <tr>\n",
       "      <th>5</th>\n",
       "      <td>ESA/CCI/FireCCI/5_1</td>\n",
       "      <td>FireCCI51: MODIS Fire_cci Burned Area Pixel Pr...</td>\n",
       "      <td>The MODIS Fire_cci Burned Area pixel product v...</td>\n",
       "      <td>[burn, c3s, cci, climate_change, copernicus, e...</td>\n",
       "    </tr>\n",
       "    <tr>\n",
       "      <th>6</th>\n",
       "      <td>ESA/GLOBCOVER_L4_200901_200912_V2_3</td>\n",
       "      <td>GlobCover: Global Land Cover Map</td>\n",
       "      <td>GlobCover 2009 is a global land cover map base...</td>\n",
       "      <td>[esa, globcover, landcover]</td>\n",
       "    </tr>\n",
       "    <tr>\n",
       "      <th>7</th>\n",
       "      <td>ESA/WorldCover/v100</td>\n",
       "      <td>ESA WorldCover 10m v100</td>\n",
       "      <td>The European Space Agency (ESA) WorldCover 10 ...</td>\n",
       "      <td>[esa, landcover, landuse, sentinel1-derived, s...</td>\n",
       "    </tr>\n",
       "    <tr>\n",
       "      <th>8</th>\n",
       "      <td>GLIMS/20210914</td>\n",
       "      <td>GLIMS 2021: Global Land Ice Measurements From ...</td>\n",
       "      <td>Global Land Ice Measurements from Space (GLIMS...</td>\n",
       "      <td>[glacier, glims, ice, landcover, nasa, nsidc, ...</td>\n",
       "    </tr>\n",
       "    <tr>\n",
       "      <th>9</th>\n",
       "      <td>GLIMS/current</td>\n",
       "      <td>GLIMS Current: Global Land Ice Measurements Fr...</td>\n",
       "      <td>Global Land Ice Measurements from Space (GLIMS...</td>\n",
       "      <td>[glacier, glims, ice, landcover, nasa, nsidc, ...</td>\n",
       "    </tr>\n",
       "    <tr>\n",
       "      <th>10</th>\n",
       "      <td>GOOGLE/DYNAMICWORLD/V1</td>\n",
       "      <td>Dynamic World V1</td>\n",
       "      <td>Dynamic World is a 10m near-real-time (NRT) La...</td>\n",
       "      <td>[global, google, landcover, landuse, nrt, sent...</td>\n",
       "    </tr>\n",
       "    <tr>\n",
       "      <th>11</th>\n",
       "      <td>JAXA/ALOS/PALSAR/YEARLY/FNF</td>\n",
       "      <td>Global PALSAR-2/PALSAR Forest/Non-Forest Map</td>\n",
       "      <td>The global forest/non-forest map (FNF) is gene...</td>\n",
       "      <td>[alos, alos2, classification, eroc, forest, ja...</td>\n",
       "    </tr>\n",
       "    <tr>\n",
       "      <th>12</th>\n",
       "      <td>JRC/LUCAS_HARMO/COPERNICUS_POLYGONS/V1/2018</td>\n",
       "      <td>LUCAS Copernicus (Polygons with attributes, 20...</td>\n",
       "      <td>The\\n[Land Use/Cover Area frame Survey (LUCAS)...</td>\n",
       "      <td>[EU, JRC, copernicus, landcover, landuse, lucas]</td>\n",
       "    </tr>\n",
       "    <tr>\n",
       "      <th>13</th>\n",
       "      <td>JRC/LUCAS_HARMO/THLOC/V1</td>\n",
       "      <td>LUCAS Harmonized (Theoretical Location, 2006-2...</td>\n",
       "      <td>The\\n[Land Use/Cover Area frame Survey (LUCAS)...</td>\n",
       "      <td>[EU, JRC, landcover, landuse, lucas]</td>\n",
       "    </tr>\n",
       "    <tr>\n",
       "      <th>14</th>\n",
       "      <td>KNTU/LiDARLab/IranLandCover/V1</td>\n",
       "      <td>Iran Land Cover Map v1 13-class (2017)</td>\n",
       "      <td>The Iran-wide land cover map was generated by ...</td>\n",
       "      <td>[iran, kntu, landcover]</td>\n",
       "    </tr>\n",
       "    <tr>\n",
       "      <th>15</th>\n",
       "      <td>MODIS/006/MCD12Q1</td>\n",
       "      <td>MCD12Q1.006 MODIS Land Cover Type Yearly Globa...</td>\n",
       "      <td>The MCD12Q1 V6 product provides global land co...</td>\n",
       "      <td>[landcover, mcd12q1, modis, nasa, usgs, yearly]</td>\n",
       "    </tr>\n",
       "    <tr>\n",
       "      <th>16</th>\n",
       "      <td>Oxford/MAP/IGBP_Fractional_Landcover_5km_Annual</td>\n",
       "      <td>Oxford MAP: Malaria Atlas Project Fractional I...</td>\n",
       "      <td>The underlying dataset for this landcover prod...</td>\n",
       "      <td>[igpb, landcover, map, oxford]</td>\n",
       "    </tr>\n",
       "    <tr>\n",
       "      <th>17</th>\n",
       "      <td>Tsinghua/DESS/ChinaTerraceMap/v1</td>\n",
       "      <td>DESS China Terrace Map v1</td>\n",
       "      <td>This dataset is a China terrace map at 30 m re...</td>\n",
       "      <td>[China, Tsinghua, agriculture, dess, landcover...</td>\n",
       "    </tr>\n",
       "    <tr>\n",
       "      <th>18</th>\n",
       "      <td>USDA/NASS/CDL</td>\n",
       "      <td>USDA NASS Cropland Data Layers</td>\n",
       "      <td>The Cropland Data Layer (CDL) is a crop-specif...</td>\n",
       "      <td>[cdl, cropland, landcover, nass, usda]</td>\n",
       "    </tr>\n",
       "    <tr>\n",
       "      <th>19</th>\n",
       "      <td>USFS/GTAC/LCMS/v2020-5</td>\n",
       "      <td>USFS Landscape Change Monitoring System v2020.5</td>\n",
       "      <td>This product is part of the Landscape Change M...</td>\n",
       "      <td>[change, change-detection, forest, gtac, landc...</td>\n",
       "    </tr>\n",
       "    <tr>\n",
       "      <th>20</th>\n",
       "      <td>USFS/GTAC/LCMS/v2020-6</td>\n",
       "      <td>USFS Landscape Change Monitoring System v2020....</td>\n",
       "      <td>This product is part of the Landscape Change M...</td>\n",
       "      <td>[change, change-detection, forest, gtac, landc...</td>\n",
       "    </tr>\n",
       "    <tr>\n",
       "      <th>21</th>\n",
       "      <td>USFS/GTAC/LCMS/v2021-7</td>\n",
       "      <td>USFS Landscape Change Monitoring System v2021....</td>\n",
       "      <td>This product is part of the Landscape Change M...</td>\n",
       "      <td>[change, change-detection, forest, gtac, landc...</td>\n",
       "    </tr>\n",
       "  </tbody>\n",
       "</table>\n",
       "</div>"
      ],
      "text/plain": [
       "                                                 id  \\\n",
       "0                                          AAFC/ACI   \n",
       "1                        COPERNICUS/CORINE/V20/100m   \n",
       "2       COPERNICUS/Landcover/100m/Proba-V-C3/Global   \n",
       "3                    CSP/HM/GlobalHumanModification   \n",
       "4                                DLR/WSF/WSF2015/v1   \n",
       "5                               ESA/CCI/FireCCI/5_1   \n",
       "6               ESA/GLOBCOVER_L4_200901_200912_V2_3   \n",
       "7                               ESA/WorldCover/v100   \n",
       "8                                    GLIMS/20210914   \n",
       "9                                     GLIMS/current   \n",
       "10                           GOOGLE/DYNAMICWORLD/V1   \n",
       "11                      JAXA/ALOS/PALSAR/YEARLY/FNF   \n",
       "12      JRC/LUCAS_HARMO/COPERNICUS_POLYGONS/V1/2018   \n",
       "13                         JRC/LUCAS_HARMO/THLOC/V1   \n",
       "14                   KNTU/LiDARLab/IranLandCover/V1   \n",
       "15                                MODIS/006/MCD12Q1   \n",
       "16  Oxford/MAP/IGBP_Fractional_Landcover_5km_Annual   \n",
       "17                 Tsinghua/DESS/ChinaTerraceMap/v1   \n",
       "18                                    USDA/NASS/CDL   \n",
       "19                           USFS/GTAC/LCMS/v2020-5   \n",
       "20                           USFS/GTAC/LCMS/v2020-6   \n",
       "21                           USFS/GTAC/LCMS/v2021-7   \n",
       "\n",
       "                                                title  \\\n",
       "0                   Canada AAFC Annual Crop Inventory   \n",
       "1                        Copernicus CORINE Land Cover   \n",
       "2   Copernicus Global Land Cover Layers: CGLS-LC10...   \n",
       "3                  CSP gHM: Global Human Modification   \n",
       "4                     World Settlement Footprint 2015   \n",
       "5   FireCCI51: MODIS Fire_cci Burned Area Pixel Pr...   \n",
       "6                    GlobCover: Global Land Cover Map   \n",
       "7                             ESA WorldCover 10m v100   \n",
       "8   GLIMS 2021: Global Land Ice Measurements From ...   \n",
       "9   GLIMS Current: Global Land Ice Measurements Fr...   \n",
       "10                                   Dynamic World V1   \n",
       "11       Global PALSAR-2/PALSAR Forest/Non-Forest Map   \n",
       "12  LUCAS Copernicus (Polygons with attributes, 20...   \n",
       "13  LUCAS Harmonized (Theoretical Location, 2006-2...   \n",
       "14             Iran Land Cover Map v1 13-class (2017)   \n",
       "15  MCD12Q1.006 MODIS Land Cover Type Yearly Globa...   \n",
       "16  Oxford MAP: Malaria Atlas Project Fractional I...   \n",
       "17                          DESS China Terrace Map v1   \n",
       "18                     USDA NASS Cropland Data Layers   \n",
       "19    USFS Landscape Change Monitoring System v2020.5   \n",
       "20  USFS Landscape Change Monitoring System v2020....   \n",
       "21  USFS Landscape Change Monitoring System v2021....   \n",
       "\n",
       "                                          description  \\\n",
       "0   Starting in 2009, the Earth Observation Team o...   \n",
       "1   The CORINE (coordination of information on the...   \n",
       "2   The Copernicus Global Land Service (CGLS) is e...   \n",
       "3   The global Human Modification dataset (gHM) pr...   \n",
       "4   The World Settlement Footprint (WSF) 2015 is a...   \n",
       "5   The MODIS Fire_cci Burned Area pixel product v...   \n",
       "6   GlobCover 2009 is a global land cover map base...   \n",
       "7   The European Space Agency (ESA) WorldCover 10 ...   \n",
       "8   Global Land Ice Measurements from Space (GLIMS...   \n",
       "9   Global Land Ice Measurements from Space (GLIMS...   \n",
       "10  Dynamic World is a 10m near-real-time (NRT) La...   \n",
       "11  The global forest/non-forest map (FNF) is gene...   \n",
       "12  The\\n[Land Use/Cover Area frame Survey (LUCAS)...   \n",
       "13  The\\n[Land Use/Cover Area frame Survey (LUCAS)...   \n",
       "14  The Iran-wide land cover map was generated by ...   \n",
       "15  The MCD12Q1 V6 product provides global land co...   \n",
       "16  The underlying dataset for this landcover prod...   \n",
       "17  This dataset is a China terrace map at 30 m re...   \n",
       "18  The Cropland Data Layer (CDL) is a crop-specif...   \n",
       "19  This product is part of the Landscape Change M...   \n",
       "20  This product is part of the Landscape Change M...   \n",
       "21  This product is part of the Landscape Change M...   \n",
       "\n",
       "                                             keywords  \n",
       "0                     [aafc, canada, crop, landcover]  \n",
       "1   [clc, copernicus, corine, eea, esa, eu, landco...  \n",
       "2   [copernicus, eea, esa, eu, landcover, proba, p...  \n",
       "3   [csp, fragmentation, human_modification, landc...  \n",
       "4   [landcover, landsat-derived, sentinel1-derived...  \n",
       "5   [burn, c3s, cci, climate_change, copernicus, e...  \n",
       "6                         [esa, globcover, landcover]  \n",
       "7   [esa, landcover, landuse, sentinel1-derived, s...  \n",
       "8   [glacier, glims, ice, landcover, nasa, nsidc, ...  \n",
       "9   [glacier, glims, ice, landcover, nasa, nsidc, ...  \n",
       "10  [global, google, landcover, landuse, nrt, sent...  \n",
       "11  [alos, alos2, classification, eroc, forest, ja...  \n",
       "12   [EU, JRC, copernicus, landcover, landuse, lucas]  \n",
       "13               [EU, JRC, landcover, landuse, lucas]  \n",
       "14                            [iran, kntu, landcover]  \n",
       "15    [landcover, mcd12q1, modis, nasa, usgs, yearly]  \n",
       "16                     [igpb, landcover, map, oxford]  \n",
       "17  [China, Tsinghua, agriculture, dess, landcover...  \n",
       "18             [cdl, cropland, landcover, nass, usda]  \n",
       "19  [change, change-detection, forest, gtac, landc...  \n",
       "20  [change, change-detection, forest, gtac, landc...  \n",
       "21  [change, change-detection, forest, gtac, landc...  "
      ]
     },
     "execution_count": 14,
     "metadata": {},
     "output_type": "execute_result"
    }
   ],
   "source": [
    "df = pd.DataFrame(datasets)\n",
    "df"
   ]
  },
  {
   "cell_type": "markdown",
   "id": "16c5024c-d3fb-4140-ae6f-eaab1382dba1",
   "metadata": {},
   "source": [
    "Save to Excel."
   ]
  },
  {
   "cell_type": "code",
   "execution_count": null,
   "id": "3a010b13-cdf7-452f-861d-61d38372ca3f",
   "metadata": {},
   "outputs": [],
   "source": [
    "df.to_excel('ee_datasets.xlsx', index=False)"
   ]
  }
 ],
 "metadata": {
  "kernelspec": {
   "display_name": "Python 3 (ipykernel)",
   "language": "python",
   "name": "python3"
  },
  "language_info": {
   "codemirror_mode": {
    "name": "ipython",
    "version": 3
   },
   "file_extension": ".py",
   "mimetype": "text/x-python",
   "name": "python",
   "nbconvert_exporter": "python",
   "pygments_lexer": "ipython3",
   "version": "3.12.3"
  }
 },
 "nbformat": 4,
 "nbformat_minor": 5
}
