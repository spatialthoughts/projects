{
  "cells": [
    {
      "cell_type": "markdown",
      "metadata": {
        "id": "lbiOVRIknBXl"
      },
      "source": [
        "# Large Gridded Exports from GEE\n",
        "\n",
        "This notebook shows how to export a country-scale raster from Earth Engine as separate tiles using a grid. The key is to ensure use of `crs` and `crsTransform` to ensure all the tiles are in the same pixel grid and align correctly with the target projection.\n",
        "\n",
        "[Read the full post](https://spatialthoughts.com/2024/10/23/large-image-exports-gee/)"
      ]
    },
    {
      "cell_type": "code",
      "execution_count": null,
      "metadata": {
        "id": "bdrO-p3Jm0RV"
      },
      "outputs": [],
      "source": [
        "import geemap\n",
        "import ee"
      ]
    },
    {
      "cell_type": "markdown",
      "metadata": {
        "id": "CpVwpjkjIAJQ"
      },
      "source": [
        "#### Initialization\n",
        "\n",
        "First of all, you need to run the following cells to initialize the API and authorize your account. You must have a Google Cloud Project associated with your GEE account. Replace the `cloud_project` with your own project from [Google Cloud Console](https://console.cloud.google.com/)."
      ]
    },
    {
      "cell_type": "code",
      "execution_count": null,
      "metadata": {
        "id": "gjRJhBKF2iLf"
      },
      "outputs": [],
      "source": [
        "# Replace the cloud_project with your own project\n",
        "cloud_project = 'spatialthoughts'\n",
        "try:\n",
        "    ee.Initialize(project=cloud_project)\n",
        "except:\n",
        "    ee.Authenticate()\n",
        "    ee.Initialize(project=cloud_project)"
      ]
    },
    {
      "cell_type": "markdown",
      "metadata": {
        "id": "V6bfzHTsnrkq"
      },
      "source": [
        "#### Data Prep\n",
        "\n",
        "We select a country and create a clipped ESA WorldCover 2020 classification for the region."
      ]
    },
    {
      "cell_type": "code",
      "execution_count": null,
      "metadata": {
        "id": "tNJlujygnBFP"
      },
      "outputs": [],
      "source": [
        "worldcover = ee.ImageCollection(\"ESA/WorldCover/v100\")\n",
        "lsib = ee.FeatureCollection(\"USDOS/LSIB_SIMPLE/2017\")\n",
        "\n",
        "# Select the country\n",
        "country = lsib.filter(ee.Filter.eq('country_na', 'Estonia'))\n",
        "geometry = country.geometry()\n",
        "\n",
        "# Select the image for export\n",
        "image = worldcover.first().clip(geometry)\n",
        "\n",
        "m = geemap.Map(width=800)\n",
        "m.addLayer(image, {}, 'Input Image');\n",
        "m.centerObject(country, 7)\n",
        "m"
      ]
    },
    {
      "cell_type": "markdown",
      "metadata": {
        "id": "QAGIemyOokb9"
      },
      "source": [
        "#### Create a Grid\n",
        "\n",
        "We create a grid and calculate the parameters for the CRS Transform. Each tile of the grid will be exported as a separate image on the chosen pixel grid."
      ]
    },
    {
      "cell_type": "code",
      "execution_count": null,
      "metadata": {
        "id": "n39pcoSLnZBQ"
      },
      "outputs": [],
      "source": [
        "# Choose the export CRS\n",
        "crs = 'EPSG:3301'\n",
        "\n",
        "# Choose the pixel size for export (meters)\n",
        "pixelSize = 10\n",
        "\n",
        "# Choose the export tile size (pixels)\n",
        "tileSize = 10000\n",
        "\n",
        "# Calculate the grid size (meters)\n",
        "gridSize = tileSize * pixelSize\n",
        "\n",
        "# Create the grid covering the geometry bounds\n",
        "bounds = geometry.bounds(**{\n",
        "  'proj': crs, 'maxError': 1\n",
        "})\n",
        "\n",
        "grid = bounds.coveringGrid(**{\n",
        "  'proj':crs, 'scale': gridSize\n",
        "})\n",
        "\n",
        "m.addLayer(grid, {'color': 'blue'}, 'Grid')\n",
        "m"
      ]
    },
    {
      "cell_type": "markdown",
      "metadata": {
        "id": "2ijOJB-5qA6V"
      },
      "source": [
        "#### Calculate the CRS Transform"
      ]
    },
    {
      "cell_type": "code",
      "execution_count": null,
      "metadata": {
        "id": "NSW4kR4DpjdG"
      },
      "outputs": [],
      "source": [
        "# Calculate the coordinates of the top-left corner of the grid\n",
        "bounds = grid.geometry().bounds(**{\n",
        "  'proj': crs, 'maxError': 1\n",
        "});\n",
        "\n",
        "# Extract the coordinates of the grid\n",
        "coordList = ee.Array.cat(bounds.coordinates(), 1)\n",
        "\n",
        "xCoords = coordList.slice(1, 0, 1)\n",
        "yCoords = coordList.slice(1, 1, 2)\n",
        "\n",
        "# We need the coordinates of the top-left pixel\n",
        "xMin = xCoords.reduce('min', [0]).get([0,0])\n",
        "yMax = yCoords.reduce('max', [0]).get([0,0])\n",
        "\n",
        "# Create the CRS Transform\n",
        "\n",
        "# The transform consists of 6 parameters:\n",
        "# [xScale, xShearing, xTranslation,\n",
        "#  yShearing, yScale, yTranslation]\n",
        "transform = ee.List([\n",
        "    pixelSize, 0, xMin, 0, -pixelSize, yMax]).getInfo()\n",
        "print(transform)"
      ]
    },
    {
      "cell_type": "markdown",
      "metadata": {
        "id": "7ZRMCbu9Tj8L"
      },
      "source": [
        "#### Resample or Aggregate Pixels\n",
        "\n",
        "By default, the images are resampled to the target pixel grid using the Nearest Neighbor method. This is fine for most types of images, but you may want to change this behavior for certain types of operations. For discrete rasters, such as landcover classification, nearest neighbor is appropriate. For climate or elevation rasters, you may want to enable `bilinear` or `bicubic` interpolation.\n",
        "\n"
      ]
    },
    {
      "cell_type": "code",
      "execution_count": null,
      "metadata": {
        "id": "1nINzG1UU-s0"
      },
      "outputs": [],
      "source": [
        "# Uncomment below to enable resampling\n",
        "# This is not required for classification images\n",
        "# image = image.resample('bicubic')"
      ]
    },
    {
      "cell_type": "markdown",
      "metadata": {
        "id": "-uK6CleXXx4x"
      },
      "source": [
        "#### Set a NoData Value\n",
        "\n",
        "This is an important step. If you have masked pixels in your image, the output tiles will not be of equal size. To ensure each tile has the same dimensions and there are no gaps or overlapping pixels, `unmask()` all masked pixels and set a nodata value."
      ]
    },
    {
      "cell_type": "code",
      "execution_count": null,
      "metadata": {
        "id": "7rNfwSscYGAj"
      },
      "outputs": [],
      "source": [
        "# Assign a no-data value\n",
        "noDataValue = 0\n",
        "exportImage = image.unmask(**{\n",
        "    'value':noDataValue,\n",
        "    'sameFootprint': False\n",
        "})"
      ]
    },
    {
      "cell_type": "markdown",
      "metadata": {
        "id": "Bve42SLDrgcQ"
      },
      "source": [
        "#### Export Tiles"
      ]
    },
    {
      "cell_type": "markdown",
      "source": [
        "We created the tiling grid using the bounding box of the region geometry. This may result in certain grids that have no overlap with the region and thus will be empty. We can filter out those empty grids before exporting."
      ],
      "metadata": {
        "id": "OnJ4snAKcgva"
      }
    },
    {
      "cell_type": "code",
      "source": [
        "filtered_grid = grid.filter(ee.Filter.intersects('.geo', geometry))\n",
        "m.addLayer(filtered_grid, {'color': 'red'}, 'Filtered Grid')\n",
        "m"
      ],
      "metadata": {
        "id": "60KyyMMpczaF"
      },
      "execution_count": null,
      "outputs": []
    },
    {
      "cell_type": "code",
      "execution_count": null,
      "metadata": {
        "id": "GrG5YHGVrhW0"
      },
      "outputs": [],
      "source": [
        "tile_ids = filtered_grid.aggregate_array('system:index').getInfo();\n",
        "print('Total tiles', len(tile_ids))"
      ]
    },
    {
      "cell_type": "code",
      "execution_count": null,
      "metadata": {
        "id": "VdGvNUTWr21t"
      },
      "outputs": [],
      "source": [
        "# Export each tile\n",
        "# Warning: This will result in 14 large GeoTIFFs tiles in your Google Drive\n",
        "for i, tile_id in enumerate(tile_ids):\n",
        "    feature = ee.Feature(filtered_grid.toList(1, i).get(0))\n",
        "    geometry = feature.geometry()\n",
        "    task_name = 'tile_' + tile_id.replace(',', '_')\n",
        "    task = ee.batch.Export.image.toDrive(**{\n",
        "        'image': exportImage,\n",
        "        'description': f'Image_Export_{task_name}',\n",
        "        'fileNamePrefix': task_name,\n",
        "        'folder':'earthengine',\n",
        "        'crs': crs,\n",
        "        'crsTransform': transform,\n",
        "        'region': geometry,\n",
        "        'maxPixels': 1e10\n",
        "    })\n",
        "    task.start()\n",
        "    print('Started Task: ', i+1)"
      ]
    }
  ],
  "metadata": {
    "colab": {
      "provenance": []
    },
    "kernelspec": {
      "display_name": "Python 3 (ipykernel)",
      "language": "python",
      "name": "python3"
    },
    "language_info": {
      "codemirror_mode": {
        "name": "ipython",
        "version": 3
      },
      "file_extension": ".py",
      "mimetype": "text/x-python",
      "name": "python",
      "nbconvert_exporter": "python",
      "pygments_lexer": "ipython3",
      "version": "3.12.3"
    }
  },
  "nbformat": 4,
  "nbformat_minor": 0
}