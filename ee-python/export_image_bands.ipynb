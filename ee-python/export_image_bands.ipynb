{
 "cells": [
  {
   "cell_type": "markdown",
   "metadata": {},
   "source": [
    "# Export a multi-band image as individual images"
   ]
  },
  {
   "cell_type": "code",
   "execution_count": null,
   "metadata": {
    "colab": {},
    "colab_type": "code",
    "executionInfo": {
     "elapsed": 876,
     "status": "ok",
     "timestamp": 1592476956910,
     "user": {
      "displayName": "Ujaval Gandhi",
      "photoUrl": "https://lh3.googleusercontent.com/a-/AOh14Gh-mr8b4yrvpjGrFWxEv60USCC0iYFAwW7Snk8sIISRZwewKGfTeuUrgVjxkvRoELvKK3NB5xkADIgEizMQyhbKx3A9G77B5XWYhrxzQJk8llQgVyvltfzlA9gPDjhFLCICbfYzj85RXVP-mcV5WeIVqCImzuwDpW2BliZjcAdSb-_WjYErFvJaD8U02SYADAk8ULNl20nkpQdJjCqzj4h_hOeOALl7CABZqMG4Uq3fRxa2Yg-Z0tJEY77GkUsu6lraXZJs25nM5GCgUbEg_JtuEKBePKqsmoQrYPOpdUB8lxDff4Hak2nSyGvFz-LbFoKc0ynGk39b1ycyeKVhjMlXvmvoJqCx4L3yoMP5jf0jMzKJMrvuov2PEUzMfUh2lIVZSaavzJqXT1jRiTtld5pA8DKhXKdtqIjsGCHoBkr5oCh7mxDI2QXjhWspibwWk2NgmXNDhZxSuVzxTWde50sAAkZ8Afm9k2LSygBFFi-uBuWg-dZWCsH-GCPIIn1lCJ_2z_aPgVKNp-llxU__ne74OE1J2Y4ob8Sq9d-QJk1ZglWtLZtffqMzhQBoLkOQgyRJrgerkjG1HArFS37c5LF7KhzUIi0hk9uSIuIBWaRHwMLfChfCWL9uVSmakAPCYwlEjS-JUkJVUSEQA60CUn8yU5f78WOjprA_PvUDNG7uXe6HDDtavrexokboYQVXvw-I952YwnpUSZP6gWzuqRdbhqQCZz51TyEA087lzNi6jP_YJ4GT2bDDVM-6wiLhVoNUdg=s64",
      "userId": "08961717268892623937"
     },
     "user_tz": -330
    },
    "id": "JuN5rEoyjmjK"
   },
   "outputs": [],
   "source": [
    "import ee"
   ]
  },
  {
   "cell_type": "code",
   "execution_count": null,
   "metadata": {
    "colab": {},
    "colab_type": "code",
    "executionInfo": {
     "elapsed": 5450,
     "status": "ok",
     "timestamp": 1592476984784,
     "user": {
      "displayName": "Ujaval Gandhi",
      "photoUrl": "https://lh3.googleusercontent.com/a-/AOh14Gh-mr8b4yrvpjGrFWxEv60USCC0iYFAwW7Snk8sIISRZwewKGfTeuUrgVjxkvRoELvKK3NB5xkADIgEizMQyhbKx3A9G77B5XWYhrxzQJk8llQgVyvltfzlA9gPDjhFLCICbfYzj85RXVP-mcV5WeIVqCImzuwDpW2BliZjcAdSb-_WjYErFvJaD8U02SYADAk8ULNl20nkpQdJjCqzj4h_hOeOALl7CABZqMG4Uq3fRxa2Yg-Z0tJEY77GkUsu6lraXZJs25nM5GCgUbEg_JtuEKBePKqsmoQrYPOpdUB8lxDff4Hak2nSyGvFz-LbFoKc0ynGk39b1ycyeKVhjMlXvmvoJqCx4L3yoMP5jf0jMzKJMrvuov2PEUzMfUh2lIVZSaavzJqXT1jRiTtld5pA8DKhXKdtqIjsGCHoBkr5oCh7mxDI2QXjhWspibwWk2NgmXNDhZxSuVzxTWde50sAAkZ8Afm9k2LSygBFFi-uBuWg-dZWCsH-GCPIIn1lCJ_2z_aPgVKNp-llxU__ne74OE1J2Y4ob8Sq9d-QJk1ZglWtLZtffqMzhQBoLkOQgyRJrgerkjG1HArFS37c5LF7KhzUIi0hk9uSIuIBWaRHwMLfChfCWL9uVSmakAPCYwlEjS-JUkJVUSEQA60CUn8yU5f78WOjprA_PvUDNG7uXe6HDDtavrexokboYQVXvw-I952YwnpUSZP6gWzuqRdbhqQCZz51TyEA087lzNi6jP_YJ4GT2bDDVM-6wiLhVoNUdg=s64",
      "userId": "08961717268892623937"
     },
     "user_tz": -330
    },
    "id": "UPsm1_Qxg72j"
   },
   "outputs": [],
   "source": [
    "# Replace the cloud_project with your own project\n",
    "cloud_project = 'spatialthoughts'\n",
    "\n",
    "try:\n",
    "    ee.Initialize(project=cloud_project)\n",
    "except:\n",
    "    ee.Authenticate()\n",
    "    ee.Initialize(project=cloud_project)"
   ]
  },
  {
   "cell_type": "markdown",
   "metadata": {
    "colab_type": "text",
    "id": "mW0ljMgeg72n"
   },
   "source": [
    "## Load the image"
   ]
  },
  {
   "cell_type": "code",
   "execution_count": 11,
   "metadata": {
    "colab": {},
    "colab_type": "code",
    "executionInfo": {
     "elapsed": 879,
     "status": "ok",
     "timestamp": 1592477072602,
     "user": {
      "displayName": "Ujaval Gandhi",
      "photoUrl": "https://lh3.googleusercontent.com/a-/AOh14Gh-mr8b4yrvpjGrFWxEv60USCC0iYFAwW7Snk8sIISRZwewKGfTeuUrgVjxkvRoELvKK3NB5xkADIgEizMQyhbKx3A9G77B5XWYhrxzQJk8llQgVyvltfzlA9gPDjhFLCICbfYzj85RXVP-mcV5WeIVqCImzuwDpW2BliZjcAdSb-_WjYErFvJaD8U02SYADAk8ULNl20nkpQdJjCqzj4h_hOeOALl7CABZqMG4Uq3fRxa2Yg-Z0tJEY77GkUsu6lraXZJs25nM5GCgUbEg_JtuEKBePKqsmoQrYPOpdUB8lxDff4Hak2nSyGvFz-LbFoKc0ynGk39b1ycyeKVhjMlXvmvoJqCx4L3yoMP5jf0jMzKJMrvuov2PEUzMfUh2lIVZSaavzJqXT1jRiTtld5pA8DKhXKdtqIjsGCHoBkr5oCh7mxDI2QXjhWspibwWk2NgmXNDhZxSuVzxTWde50sAAkZ8Afm9k2LSygBFFi-uBuWg-dZWCsH-GCPIIn1lCJ_2z_aPgVKNp-llxU__ne74OE1J2Y4ob8Sq9d-QJk1ZglWtLZtffqMzhQBoLkOQgyRJrgerkjG1HArFS37c5LF7KhzUIi0hk9uSIuIBWaRHwMLfChfCWL9uVSmakAPCYwlEjS-JUkJVUSEQA60CUn8yU5f78WOjprA_PvUDNG7uXe6HDDtavrexokboYQVXvw-I952YwnpUSZP6gWzuqRdbhqQCZz51TyEA087lzNi6jP_YJ4GT2bDDVM-6wiLhVoNUdg=s64",
      "userId": "08961717268892623937"
     },
     "user_tz": -330
    },
    "id": "S60c2-FOjx0h"
   },
   "outputs": [],
   "source": [
    "gsw = ee.Image(\"JRC/GSW1_2/GlobalSurfaceWater\")\n",
    "bangalore = ee.FeatureCollection(\"users/ujavalgandhi/public/bangalore_boundary\")\n",
    "geometry = bangalore.geometry()"
   ]
  },
  {
   "cell_type": "markdown",
   "metadata": {},
   "source": [
    "## Get Band Names"
   ]
  },
  {
   "cell_type": "code",
   "execution_count": null,
   "metadata": {},
   "outputs": [],
   "source": [
    "bands = gsw.bandNames().getInfo()\n",
    "print(bands)"
   ]
  },
  {
   "cell_type": "markdown",
   "metadata": {
    "colab_type": "text",
    "id": "s-zNDMS9g72r"
   },
   "source": [
    "## Export All Bands\n",
    "\n",
    "Exports are done via the ``ee.batch`` module. A key difference between javascript and Python version is that the `region` parameter needs to be supplied with actual geometry coordinates."
   ]
  },
  {
   "cell_type": "code",
   "execution_count": null,
   "metadata": {
    "colab": {},
    "colab_type": "code",
    "id": "CoXn1_hgoj81"
   },
   "outputs": [],
   "source": [
    "for i, band in enumerate(bands):\n",
    "    image = gsw.select(band).clip(geometry)\n",
    "    task = ee.batch.Export.image.toDrive(**{\n",
    "    'image': image,\n",
    "    'description': 'Band Export {}'.format(band),\n",
    "    'fileNamePrefix': band,\n",
    "    'folder':'earthengine',\n",
    "    'scale': 100,\n",
    "    'region': geometry,\n",
    "    'maxPixels': 1e10\n",
    "    })\n",
    "    task.start()\n",
    "    print('Started Task: ', i+1)"
   ]
  }
 ],
 "metadata": {
  "colab": {
   "collapsed_sections": [],
   "name": "02_managing_tasks.ipynb",
   "provenance": [],
   "toc_visible": true
  },
  "kernelspec": {
   "display_name": "Python 3 (ipykernel)",
   "language": "python",
   "name": "python3"
  },
  "language_info": {
   "codemirror_mode": {
    "name": "ipython",
    "version": 3
   },
   "file_extension": ".py",
   "mimetype": "text/x-python",
   "name": "python",
   "nbconvert_exporter": "python",
   "pygments_lexer": "ipython3",
   "version": "3.12.3"
  }
 },
 "nbformat": 4,
 "nbformat_minor": 4
}
