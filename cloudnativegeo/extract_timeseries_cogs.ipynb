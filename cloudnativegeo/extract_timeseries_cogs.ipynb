{
 "cells": [
  {
   "cell_type": "markdown",
   "id": "51214181-3f7b-43d9-956e-79444b777b7c",
   "metadata": {},
   "source": [
    "# Extracting Time-Series from Cloud-Optimized GeoTIFFs (COGs)\n",
    "\n",
    "This notebook shows how to use rasterio to efficiently extract pixels values from cloud-optimized GeoTIFF files hosted on cloud-buckets.\n",
    "\n",
    "We leverage GDAL Virtual Rasters (VRT) to create a virtual stacked image from separate images and query them using `rasterio.sample`. This method is super fast and only fetches the data required for the pixels instead of the entire file."
   ]
  },
  {
   "cell_type": "code",
   "execution_count": 21,
   "id": "603faa67-0d26-4c85-8dda-9592f34d9207",
   "metadata": {},
   "outputs": [],
   "source": [
    "import os\n",
    "import rasterio\n",
    "from osgeo import gdal\n",
    "import tempfile"
   ]
  },
  {
   "cell_type": "code",
   "execution_count": 3,
   "id": "6b03b8d5-92c2-423f-a523-4fe988827954",
   "metadata": {},
   "outputs": [],
   "source": [
    "os.environ['GS_NO_SIGN_REQUEST'] = 'YES'"
   ]
  },
  {
   "cell_type": "markdown",
   "id": "97712af7-88b5-4023-bd57-b6a65816cecb",
   "metadata": {},
   "source": [
    "In this example, we have a folder on Google Cloud Storage (GCS) has 12 files representing soil moisture for each month.\n",
    "\n",
    "```\n",
    "soil_moisture_202301.tif\n",
    "soil_moisture_202302.tif\n",
    "soil_moisture_202303.tif\n",
    "...\n",
    "```\n",
    "\n",
    "We want to sample pixel values from each of these at N different locations. "
   ]
  },
  {
   "cell_type": "markdown",
   "id": "b03b2afd-199f-414d-988b-ae9399d9fddb",
   "metadata": {},
   "source": [
    "### Creating a VRT\n",
    "\n",
    "This is a one-time process to create a VRT for efficient query of the datasets."
   ]
  },
  {
   "cell_type": "markdown",
   "id": "89fcdb35-573d-49dc-a35c-c61fe22d8274",
   "metadata": {},
   "source": [
    "### GDAL Command Line Tool\n",
    "\n",
    "One can use the GDAL command-line tool to create a VRT and place it in the same GCS bucket as the files. \n",
    "\n",
    "`gdalbuildvrt -input_file_list filelist.txt soil_moisture.vrt`\n",
    "\n",
    "The filelist would contain URLS of files with the `/vsigs` prefix.\n",
    "\n",
    "```\n",
    "/vsigs/spatialthoughts-public-data/terraclimate/soil_moisture_202301.tif\n",
    "/vsigs/spatialthoughts-public-data/terraclimate/soil_moisture_202301.tif\n",
    "/vsigs/spatialthoughts-public-data/terraclimate/soil_moisture_202301.tif\n",
    "...\n",
    "```\n"
   ]
  },
  {
   "cell_type": "markdown",
   "id": "79b73646-8ab6-46ca-8b64-67e67dd9cad3",
   "metadata": {},
   "source": [
    "### Using GDAL Python API"
   ]
  },
  {
   "cell_type": "code",
   "execution_count": null,
   "id": "0e4d3b03-a52b-4efa-920e-9820feb01b1b",
   "metadata": {},
   "outputs": [],
   "source": [
    "# Create a VRT file in the temp directory\n",
    "temp_dir = tempfile.gettempdir()\n",
    "vrt_file = 'soil_moisture.vrt'\n",
    "vrt_options = gdal.BuildVRTOptions(separate=True)\n",
    "vrt_file_path = os.path.join(temp_dir, vrt_file)\n",
    "\n",
    "# Add URLs to the files\n",
    "urls = []\n",
    "prefix = '/vsigs/spatialthoughts-public-data/terraclimate/'\n",
    "for month in range(1, 13):\n",
    "    image_id = f'soil_moisture_2023{month:02d}.tif'\n",
    "    path = prefix + image_id\n",
    "    urls.append(path)\n",
    "\n",
    "# Create the VRT\n",
    "gdal.BuildVRT(vrt_file_path, urls, options=vrt_options).FlushCache()"
   ]
  },
  {
   "cell_type": "markdown",
   "id": "b11d0ce6-ddd1-43ce-a66d-44877a74452b",
   "metadata": {},
   "source": [
    "Once done, copy the VRT to the same GCS bucket"
   ]
  },
  {
   "cell_type": "markdown",
   "id": "8e30a772-c35a-4381-955d-533f50327f3a",
   "metadata": {},
   "source": [
    "## Sampling Pixel Values"
   ]
  },
  {
   "cell_type": "code",
   "execution_count": 45,
   "id": "a6b42699-c0d8-4c13-ad5e-7c6735067d13",
   "metadata": {},
   "outputs": [],
   "source": [
    "vrt_file_path = '/vsigs/spatialthoughts-public-data/terraclimate/soil_moisture.vrt'"
   ]
  },
  {
   "cell_type": "code",
   "execution_count": 43,
   "id": "10840fea-23f1-4482-b90c-1fdbabc45456",
   "metadata": {},
   "outputs": [
    {
     "name": "stdout",
     "output_type": "stream",
     "text": [
      "[ 53.   41.6  34.4  29.4  25.7 219.6 219.6 206.6 219.6 135.8  96.8  62.3]\n"
     ]
    }
   ],
   "source": [
    "with rasterio.open(vrt_file_path) as src:\n",
    "    coords = [(73, 21)]\n",
    "    samples = rasterio.sample.sample_gen(src, coords)\n",
    "    for sample in samples:\n",
    "        print(sample)"
   ]
  },
  {
   "cell_type": "code",
   "execution_count": null,
   "id": "3d684f9d-2bb3-40b2-86dc-e1afae90a97f",
   "metadata": {},
   "outputs": [],
   "source": []
  }
 ],
 "metadata": {
  "kernelspec": {
   "display_name": "Python 3 (ipykernel)",
   "language": "python",
   "name": "python3"
  },
  "language_info": {
   "codemirror_mode": {
    "name": "ipython",
    "version": 3
   },
   "file_extension": ".py",
   "mimetype": "text/x-python",
   "name": "python",
   "nbconvert_exporter": "python",
   "pygments_lexer": "ipython3",
   "version": "3.13.1"
  }
 },
 "nbformat": 4,
 "nbformat_minor": 5
}
