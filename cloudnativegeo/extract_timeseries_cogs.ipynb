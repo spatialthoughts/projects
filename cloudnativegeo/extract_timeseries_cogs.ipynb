{
  "cells": [
    {
      "cell_type": "markdown",
      "id": "51214181-3f7b-43d9-956e-79444b777b7c",
      "metadata": {
        "id": "51214181-3f7b-43d9-956e-79444b777b7c"
      },
      "source": [
        "# Extracting Time-Series from Cloud-Optimized GeoTIFFs (COGs)\n",
        "\n",
        "This notebook shows how to use rasterio to efficiently extract pixels values from cloud-optimized GeoTIFF files hosted on cloud-buckets.\n",
        "\n",
        "We leverage GDAL Virtual Rasters (VRT) to create a virtual stacked image from separate images and query them using `rasterio.sample`. This method is super fast and only fetches the data required for the pixels instead of the entire file."
      ]
    },
    {
      "cell_type": "code",
      "source": [
        "%%capture\n",
        "if 'google.colab' in str(get_ipython()):\n",
        "    !pip install rasterio"
      ],
      "metadata": {
        "id": "1qtkPv3EG1AC"
      },
      "id": "1qtkPv3EG1AC",
      "execution_count": 7,
      "outputs": []
    },
    {
      "cell_type": "code",
      "execution_count": 8,
      "id": "603faa67-0d26-4c85-8dda-9592f34d9207",
      "metadata": {
        "id": "603faa67-0d26-4c85-8dda-9592f34d9207"
      },
      "outputs": [],
      "source": [
        "import os\n",
        "import rasterio\n",
        "from osgeo import gdal\n",
        "import tempfile\n",
        "import pandas as pd"
      ]
    },
    {
      "cell_type": "code",
      "execution_count": 9,
      "id": "6b03b8d5-92c2-423f-a523-4fe988827954",
      "metadata": {
        "id": "6b03b8d5-92c2-423f-a523-4fe988827954"
      },
      "outputs": [],
      "source": [
        "os.environ['GS_NO_SIGN_REQUEST'] = 'YES'"
      ]
    },
    {
      "cell_type": "markdown",
      "id": "97712af7-88b5-4023-bd57-b6a65816cecb",
      "metadata": {
        "id": "97712af7-88b5-4023-bd57-b6a65816cecb"
      },
      "source": [
        "In this example, we have a folder on Google Cloud Storage (GCS) has 12 files representing soil moisture for each month.\n",
        "\n",
        "```\n",
        "soil_moisture_202301.tif\n",
        "soil_moisture_202302.tif\n",
        "soil_moisture_202303.tif\n",
        "...\n",
        "```\n",
        "\n",
        "We want to sample pixel values from each of these at N different locations."
      ]
    },
    {
      "cell_type": "markdown",
      "id": "b03b2afd-199f-414d-988b-ae9399d9fddb",
      "metadata": {
        "id": "b03b2afd-199f-414d-988b-ae9399d9fddb"
      },
      "source": [
        "### Creating a VRT\n",
        "\n",
        "This is a one-time process to create a VRT for efficient query of the datasets."
      ]
    },
    {
      "cell_type": "markdown",
      "id": "89fcdb35-573d-49dc-a35c-c61fe22d8274",
      "metadata": {
        "id": "89fcdb35-573d-49dc-a35c-c61fe22d8274"
      },
      "source": [
        "### GDAL Command Line Tool\n",
        "\n",
        "One can use the GDAL command-line tool to create a VRT and place it in the same GCS bucket as the files.\n",
        "\n",
        "`gdalbuildvrt -input_file_list filelist.txt soil_moisture.vrt`\n",
        "\n",
        "The filelist would contain URLS of files with the `/vsigs` prefix.\n",
        "\n",
        "```\n",
        "/vsigs/spatialthoughts-public-data/terraclimate/soil_moisture_202301.tif\n",
        "/vsigs/spatialthoughts-public-data/terraclimate/soil_moisture_202301.tif\n",
        "/vsigs/spatialthoughts-public-data/terraclimate/soil_moisture_202301.tif\n",
        "...\n",
        "```\n"
      ]
    },
    {
      "cell_type": "markdown",
      "id": "79b73646-8ab6-46ca-8b64-67e67dd9cad3",
      "metadata": {
        "id": "79b73646-8ab6-46ca-8b64-67e67dd9cad3"
      },
      "source": [
        "### Using GDAL Python API"
      ]
    },
    {
      "cell_type": "code",
      "execution_count": null,
      "id": "0e4d3b03-a52b-4efa-920e-9820feb01b1b",
      "metadata": {
        "id": "0e4d3b03-a52b-4efa-920e-9820feb01b1b"
      },
      "outputs": [],
      "source": [
        "# Create a VRT file in the temp directory\n",
        "temp_dir = tempfile.gettempdir()\n",
        "vrt_file = 'soil_moisture.vrt'\n",
        "vrt_options = gdal.BuildVRTOptions(separate=True)\n",
        "vrt_file_path = os.path.join(temp_dir, vrt_file)\n",
        "\n",
        "# Add URLs to the files\n",
        "urls = []\n",
        "prefix = '/vsigs/spatialthoughts-public-data/terraclimate/'\n",
        "for month in range(1, 13):\n",
        "    image_id = f'soil_moisture_2023{month:02d}.tif'\n",
        "    path = prefix + image_id\n",
        "    urls.append(path)\n",
        "\n",
        "# Create the VRT\n",
        "gdal.BuildVRT(vrt_file_path, urls, options=vrt_options).FlushCache()"
      ]
    },
    {
      "cell_type": "markdown",
      "id": "b11d0ce6-ddd1-43ce-a66d-44877a74452b",
      "metadata": {
        "id": "b11d0ce6-ddd1-43ce-a66d-44877a74452b"
      },
      "source": [
        "Once done, copy the VRT to the same GCS bucket"
      ]
    },
    {
      "cell_type": "markdown",
      "id": "8e30a772-c35a-4381-955d-533f50327f3a",
      "metadata": {
        "id": "8e30a772-c35a-4381-955d-533f50327f3a"
      },
      "source": [
        "## Sampling Pixel Values"
      ]
    },
    {
      "cell_type": "code",
      "execution_count": 10,
      "id": "a6b42699-c0d8-4c13-ad5e-7c6735067d13",
      "metadata": {
        "id": "a6b42699-c0d8-4c13-ad5e-7c6735067d13"
      },
      "outputs": [],
      "source": [
        "vrt_file_path = '/vsigs/spatialthoughts-public-data/terraclimate/soil_moisture.vrt'"
      ]
    },
    {
      "cell_type": "code",
      "execution_count": 11,
      "id": "69a336f7-d90c-4e53-a3af-cc6e9097e026",
      "metadata": {
        "id": "69a336f7-d90c-4e53-a3af-cc6e9097e026"
      },
      "outputs": [],
      "source": [
        "locations = [\n",
        "    ('Location 1', 80.449, 18.728),\n",
        "    ('Location 2', 79.1488, 15.2797),\n",
        "    ('Location 3', 74.656, 25.144)\n",
        "]"
      ]
    },
    {
      "cell_type": "markdown",
      "id": "b1460b32-7ce8-48ac-900a-0d8397d6e9fe",
      "metadata": {
        "id": "b1460b32-7ce8-48ac-900a-0d8397d6e9fe"
      },
      "source": [
        "Sorting coordinates by X and then Y provides better performance"
      ]
    },
    {
      "cell_type": "code",
      "execution_count": 12,
      "id": "a2a9c613-9318-494d-8a8b-9e89545c41b2",
      "metadata": {
        "id": "a2a9c613-9318-494d-8a8b-9e89545c41b2"
      },
      "outputs": [],
      "source": [
        "sorted_locations = sorted(locations, key=lambda loc: (loc[1], loc[2]))\n",
        "sorted_ids = [loc[0] for loc in sorted_locations]\n",
        "sorted_coords = [(loc[1], loc[2]) for loc in sorted_locations]"
      ]
    },
    {
      "cell_type": "markdown",
      "id": "a5453359-40b4-4ac0-939c-d1da1be4fc7d",
      "metadata": {
        "id": "a5453359-40b4-4ac0-939c-d1da1be4fc7d"
      },
      "source": [
        "Sample the VRT using `rasterio.sample()`"
      ]
    },
    {
      "cell_type": "code",
      "execution_count": 13,
      "id": "10840fea-23f1-4482-b90c-1fdbabc45456",
      "metadata": {
        "id": "10840fea-23f1-4482-b90c-1fdbabc45456",
        "outputId": "08d5a878-82c2-466e-ac66-7a6ba11bb56d",
        "colab": {
          "base_uri": "https://localhost:8080/"
        }
      },
      "outputs": [
        {
          "output_type": "stream",
          "name": "stdout",
          "text": [
            "CPU times: user 265 ms, sys: 59.3 ms, total: 324 ms\n",
            "Wall time: 9.92 s\n"
          ]
        }
      ],
      "source": [
        "%%time\n",
        "with rasterio.open(vrt_file_path) as src:\n",
        "    samples = rasterio.sample.sample_gen(src, sorted_coords)\n",
        "    data = list(samples)"
      ]
    },
    {
      "cell_type": "markdown",
      "id": "42b52119-2838-448a-b9c9-bc5f4f7f26b1",
      "metadata": {
        "id": "42b52119-2838-448a-b9c9-bc5f4f7f26b1"
      },
      "source": [
        "Convert to a DataFrame"
      ]
    },
    {
      "cell_type": "code",
      "execution_count": 14,
      "id": "3d684f9d-2bb3-40b2-86dc-e1afae90a97f",
      "metadata": {
        "id": "3d684f9d-2bb3-40b2-86dc-e1afae90a97f",
        "outputId": "9d7accb5-8aba-4ff2-fb54-483318aac156",
        "colab": {
          "base_uri": "https://localhost:8080/",
          "height": 143
        }
      },
      "outputs": [
        {
          "output_type": "execute_result",
          "data": {
            "text/plain": [
              "               01     02     03     04     05     06     07     08     09  \\\n",
              "Location 3   25.1   21.2   18.4   16.3   14.6   13.7   34.6   27.5   37.7   \n",
              "Location 2   33.5   26.4   21.8   18.7   16.3   14.5  125.6   51.1   67.2   \n",
              "Location 1  322.5  264.4  223.0  204.8  138.1  104.7  498.9  462.5  498.9   \n",
              "\n",
              "               10     11     12  \n",
              "Location 3   29.3   24.1   20.6  \n",
              "Location 2   41.5   80.1  122.3  \n",
              "Location 1  432.2  385.9  357.1  "
            ],
            "text/html": [
              "\n",
              "  <div id=\"df-53f3d657-faee-4cb2-a3ac-cf6cf254015e\" class=\"colab-df-container\">\n",
              "    <div>\n",
              "<style scoped>\n",
              "    .dataframe tbody tr th:only-of-type {\n",
              "        vertical-align: middle;\n",
              "    }\n",
              "\n",
              "    .dataframe tbody tr th {\n",
              "        vertical-align: top;\n",
              "    }\n",
              "\n",
              "    .dataframe thead th {\n",
              "        text-align: right;\n",
              "    }\n",
              "</style>\n",
              "<table border=\"1\" class=\"dataframe\">\n",
              "  <thead>\n",
              "    <tr style=\"text-align: right;\">\n",
              "      <th></th>\n",
              "      <th>01</th>\n",
              "      <th>02</th>\n",
              "      <th>03</th>\n",
              "      <th>04</th>\n",
              "      <th>05</th>\n",
              "      <th>06</th>\n",
              "      <th>07</th>\n",
              "      <th>08</th>\n",
              "      <th>09</th>\n",
              "      <th>10</th>\n",
              "      <th>11</th>\n",
              "      <th>12</th>\n",
              "    </tr>\n",
              "  </thead>\n",
              "  <tbody>\n",
              "    <tr>\n",
              "      <th>Location 3</th>\n",
              "      <td>25.1</td>\n",
              "      <td>21.2</td>\n",
              "      <td>18.4</td>\n",
              "      <td>16.3</td>\n",
              "      <td>14.6</td>\n",
              "      <td>13.7</td>\n",
              "      <td>34.6</td>\n",
              "      <td>27.5</td>\n",
              "      <td>37.7</td>\n",
              "      <td>29.3</td>\n",
              "      <td>24.1</td>\n",
              "      <td>20.6</td>\n",
              "    </tr>\n",
              "    <tr>\n",
              "      <th>Location 2</th>\n",
              "      <td>33.5</td>\n",
              "      <td>26.4</td>\n",
              "      <td>21.8</td>\n",
              "      <td>18.7</td>\n",
              "      <td>16.3</td>\n",
              "      <td>14.5</td>\n",
              "      <td>125.6</td>\n",
              "      <td>51.1</td>\n",
              "      <td>67.2</td>\n",
              "      <td>41.5</td>\n",
              "      <td>80.1</td>\n",
              "      <td>122.3</td>\n",
              "    </tr>\n",
              "    <tr>\n",
              "      <th>Location 1</th>\n",
              "      <td>322.5</td>\n",
              "      <td>264.4</td>\n",
              "      <td>223.0</td>\n",
              "      <td>204.8</td>\n",
              "      <td>138.1</td>\n",
              "      <td>104.7</td>\n",
              "      <td>498.9</td>\n",
              "      <td>462.5</td>\n",
              "      <td>498.9</td>\n",
              "      <td>432.2</td>\n",
              "      <td>385.9</td>\n",
              "      <td>357.1</td>\n",
              "    </tr>\n",
              "  </tbody>\n",
              "</table>\n",
              "</div>\n",
              "    <div class=\"colab-df-buttons\">\n",
              "\n",
              "  <div class=\"colab-df-container\">\n",
              "    <button class=\"colab-df-convert\" onclick=\"convertToInteractive('df-53f3d657-faee-4cb2-a3ac-cf6cf254015e')\"\n",
              "            title=\"Convert this dataframe to an interactive table.\"\n",
              "            style=\"display:none;\">\n",
              "\n",
              "  <svg xmlns=\"http://www.w3.org/2000/svg\" height=\"24px\" viewBox=\"0 -960 960 960\">\n",
              "    <path d=\"M120-120v-720h720v720H120Zm60-500h600v-160H180v160Zm220 220h160v-160H400v160Zm0 220h160v-160H400v160ZM180-400h160v-160H180v160Zm440 0h160v-160H620v160ZM180-180h160v-160H180v160Zm440 0h160v-160H620v160Z\"/>\n",
              "  </svg>\n",
              "    </button>\n",
              "\n",
              "  <style>\n",
              "    .colab-df-container {\n",
              "      display:flex;\n",
              "      gap: 12px;\n",
              "    }\n",
              "\n",
              "    .colab-df-convert {\n",
              "      background-color: #E8F0FE;\n",
              "      border: none;\n",
              "      border-radius: 50%;\n",
              "      cursor: pointer;\n",
              "      display: none;\n",
              "      fill: #1967D2;\n",
              "      height: 32px;\n",
              "      padding: 0 0 0 0;\n",
              "      width: 32px;\n",
              "    }\n",
              "\n",
              "    .colab-df-convert:hover {\n",
              "      background-color: #E2EBFA;\n",
              "      box-shadow: 0px 1px 2px rgba(60, 64, 67, 0.3), 0px 1px 3px 1px rgba(60, 64, 67, 0.15);\n",
              "      fill: #174EA6;\n",
              "    }\n",
              "\n",
              "    .colab-df-buttons div {\n",
              "      margin-bottom: 4px;\n",
              "    }\n",
              "\n",
              "    [theme=dark] .colab-df-convert {\n",
              "      background-color: #3B4455;\n",
              "      fill: #D2E3FC;\n",
              "    }\n",
              "\n",
              "    [theme=dark] .colab-df-convert:hover {\n",
              "      background-color: #434B5C;\n",
              "      box-shadow: 0px 1px 3px 1px rgba(0, 0, 0, 0.15);\n",
              "      filter: drop-shadow(0px 1px 2px rgba(0, 0, 0, 0.3));\n",
              "      fill: #FFFFFF;\n",
              "    }\n",
              "  </style>\n",
              "\n",
              "    <script>\n",
              "      const buttonEl =\n",
              "        document.querySelector('#df-53f3d657-faee-4cb2-a3ac-cf6cf254015e button.colab-df-convert');\n",
              "      buttonEl.style.display =\n",
              "        google.colab.kernel.accessAllowed ? 'block' : 'none';\n",
              "\n",
              "      async function convertToInteractive(key) {\n",
              "        const element = document.querySelector('#df-53f3d657-faee-4cb2-a3ac-cf6cf254015e');\n",
              "        const dataTable =\n",
              "          await google.colab.kernel.invokeFunction('convertToInteractive',\n",
              "                                                    [key], {});\n",
              "        if (!dataTable) return;\n",
              "\n",
              "        const docLinkHtml = 'Like what you see? Visit the ' +\n",
              "          '<a target=\"_blank\" href=https://colab.research.google.com/notebooks/data_table.ipynb>data table notebook</a>'\n",
              "          + ' to learn more about interactive tables.';\n",
              "        element.innerHTML = '';\n",
              "        dataTable['output_type'] = 'display_data';\n",
              "        await google.colab.output.renderOutput(dataTable, element);\n",
              "        const docLink = document.createElement('div');\n",
              "        docLink.innerHTML = docLinkHtml;\n",
              "        element.appendChild(docLink);\n",
              "      }\n",
              "    </script>\n",
              "  </div>\n",
              "\n",
              "\n",
              "<div id=\"df-e3b436d9-0c7d-4b9f-bf9b-b981f7486d82\">\n",
              "  <button class=\"colab-df-quickchart\" onclick=\"quickchart('df-e3b436d9-0c7d-4b9f-bf9b-b981f7486d82')\"\n",
              "            title=\"Suggest charts\"\n",
              "            style=\"display:none;\">\n",
              "\n",
              "<svg xmlns=\"http://www.w3.org/2000/svg\" height=\"24px\"viewBox=\"0 0 24 24\"\n",
              "     width=\"24px\">\n",
              "    <g>\n",
              "        <path d=\"M19 3H5c-1.1 0-2 .9-2 2v14c0 1.1.9 2 2 2h14c1.1 0 2-.9 2-2V5c0-1.1-.9-2-2-2zM9 17H7v-7h2v7zm4 0h-2V7h2v10zm4 0h-2v-4h2v4z\"/>\n",
              "    </g>\n",
              "</svg>\n",
              "  </button>\n",
              "\n",
              "<style>\n",
              "  .colab-df-quickchart {\n",
              "      --bg-color: #E8F0FE;\n",
              "      --fill-color: #1967D2;\n",
              "      --hover-bg-color: #E2EBFA;\n",
              "      --hover-fill-color: #174EA6;\n",
              "      --disabled-fill-color: #AAA;\n",
              "      --disabled-bg-color: #DDD;\n",
              "  }\n",
              "\n",
              "  [theme=dark] .colab-df-quickchart {\n",
              "      --bg-color: #3B4455;\n",
              "      --fill-color: #D2E3FC;\n",
              "      --hover-bg-color: #434B5C;\n",
              "      --hover-fill-color: #FFFFFF;\n",
              "      --disabled-bg-color: #3B4455;\n",
              "      --disabled-fill-color: #666;\n",
              "  }\n",
              "\n",
              "  .colab-df-quickchart {\n",
              "    background-color: var(--bg-color);\n",
              "    border: none;\n",
              "    border-radius: 50%;\n",
              "    cursor: pointer;\n",
              "    display: none;\n",
              "    fill: var(--fill-color);\n",
              "    height: 32px;\n",
              "    padding: 0;\n",
              "    width: 32px;\n",
              "  }\n",
              "\n",
              "  .colab-df-quickchart:hover {\n",
              "    background-color: var(--hover-bg-color);\n",
              "    box-shadow: 0 1px 2px rgba(60, 64, 67, 0.3), 0 1px 3px 1px rgba(60, 64, 67, 0.15);\n",
              "    fill: var(--button-hover-fill-color);\n",
              "  }\n",
              "\n",
              "  .colab-df-quickchart-complete:disabled,\n",
              "  .colab-df-quickchart-complete:disabled:hover {\n",
              "    background-color: var(--disabled-bg-color);\n",
              "    fill: var(--disabled-fill-color);\n",
              "    box-shadow: none;\n",
              "  }\n",
              "\n",
              "  .colab-df-spinner {\n",
              "    border: 2px solid var(--fill-color);\n",
              "    border-color: transparent;\n",
              "    border-bottom-color: var(--fill-color);\n",
              "    animation:\n",
              "      spin 1s steps(1) infinite;\n",
              "  }\n",
              "\n",
              "  @keyframes spin {\n",
              "    0% {\n",
              "      border-color: transparent;\n",
              "      border-bottom-color: var(--fill-color);\n",
              "      border-left-color: var(--fill-color);\n",
              "    }\n",
              "    20% {\n",
              "      border-color: transparent;\n",
              "      border-left-color: var(--fill-color);\n",
              "      border-top-color: var(--fill-color);\n",
              "    }\n",
              "    30% {\n",
              "      border-color: transparent;\n",
              "      border-left-color: var(--fill-color);\n",
              "      border-top-color: var(--fill-color);\n",
              "      border-right-color: var(--fill-color);\n",
              "    }\n",
              "    40% {\n",
              "      border-color: transparent;\n",
              "      border-right-color: var(--fill-color);\n",
              "      border-top-color: var(--fill-color);\n",
              "    }\n",
              "    60% {\n",
              "      border-color: transparent;\n",
              "      border-right-color: var(--fill-color);\n",
              "    }\n",
              "    80% {\n",
              "      border-color: transparent;\n",
              "      border-right-color: var(--fill-color);\n",
              "      border-bottom-color: var(--fill-color);\n",
              "    }\n",
              "    90% {\n",
              "      border-color: transparent;\n",
              "      border-bottom-color: var(--fill-color);\n",
              "    }\n",
              "  }\n",
              "</style>\n",
              "\n",
              "  <script>\n",
              "    async function quickchart(key) {\n",
              "      const quickchartButtonEl =\n",
              "        document.querySelector('#' + key + ' button');\n",
              "      quickchartButtonEl.disabled = true;  // To prevent multiple clicks.\n",
              "      quickchartButtonEl.classList.add('colab-df-spinner');\n",
              "      try {\n",
              "        const charts = await google.colab.kernel.invokeFunction(\n",
              "            'suggestCharts', [key], {});\n",
              "      } catch (error) {\n",
              "        console.error('Error during call to suggestCharts:', error);\n",
              "      }\n",
              "      quickchartButtonEl.classList.remove('colab-df-spinner');\n",
              "      quickchartButtonEl.classList.add('colab-df-quickchart-complete');\n",
              "    }\n",
              "    (() => {\n",
              "      let quickchartButtonEl =\n",
              "        document.querySelector('#df-e3b436d9-0c7d-4b9f-bf9b-b981f7486d82 button');\n",
              "      quickchartButtonEl.style.display =\n",
              "        google.colab.kernel.accessAllowed ? 'block' : 'none';\n",
              "    })();\n",
              "  </script>\n",
              "</div>\n",
              "\n",
              "  <div id=\"id_2d343c18-9380-4807-991f-2ed81099abc5\">\n",
              "    <style>\n",
              "      .colab-df-generate {\n",
              "        background-color: #E8F0FE;\n",
              "        border: none;\n",
              "        border-radius: 50%;\n",
              "        cursor: pointer;\n",
              "        display: none;\n",
              "        fill: #1967D2;\n",
              "        height: 32px;\n",
              "        padding: 0 0 0 0;\n",
              "        width: 32px;\n",
              "      }\n",
              "\n",
              "      .colab-df-generate:hover {\n",
              "        background-color: #E2EBFA;\n",
              "        box-shadow: 0px 1px 2px rgba(60, 64, 67, 0.3), 0px 1px 3px 1px rgba(60, 64, 67, 0.15);\n",
              "        fill: #174EA6;\n",
              "      }\n",
              "\n",
              "      [theme=dark] .colab-df-generate {\n",
              "        background-color: #3B4455;\n",
              "        fill: #D2E3FC;\n",
              "      }\n",
              "\n",
              "      [theme=dark] .colab-df-generate:hover {\n",
              "        background-color: #434B5C;\n",
              "        box-shadow: 0px 1px 3px 1px rgba(0, 0, 0, 0.15);\n",
              "        filter: drop-shadow(0px 1px 2px rgba(0, 0, 0, 0.3));\n",
              "        fill: #FFFFFF;\n",
              "      }\n",
              "    </style>\n",
              "    <button class=\"colab-df-generate\" onclick=\"generateWithVariable('df')\"\n",
              "            title=\"Generate code using this dataframe.\"\n",
              "            style=\"display:none;\">\n",
              "\n",
              "  <svg xmlns=\"http://www.w3.org/2000/svg\" height=\"24px\"viewBox=\"0 0 24 24\"\n",
              "       width=\"24px\">\n",
              "    <path d=\"M7,19H8.4L18.45,9,17,7.55,7,17.6ZM5,21V16.75L18.45,3.32a2,2,0,0,1,2.83,0l1.4,1.43a1.91,1.91,0,0,1,.58,1.4,1.91,1.91,0,0,1-.58,1.4L9.25,21ZM18.45,9,17,7.55Zm-12,3A5.31,5.31,0,0,0,4.9,8.1,5.31,5.31,0,0,0,1,6.5,5.31,5.31,0,0,0,4.9,4.9,5.31,5.31,0,0,0,6.5,1,5.31,5.31,0,0,0,8.1,4.9,5.31,5.31,0,0,0,12,6.5,5.46,5.46,0,0,0,6.5,12Z\"/>\n",
              "  </svg>\n",
              "    </button>\n",
              "    <script>\n",
              "      (() => {\n",
              "      const buttonEl =\n",
              "        document.querySelector('#id_2d343c18-9380-4807-991f-2ed81099abc5 button.colab-df-generate');\n",
              "      buttonEl.style.display =\n",
              "        google.colab.kernel.accessAllowed ? 'block' : 'none';\n",
              "\n",
              "      buttonEl.onclick = () => {\n",
              "        google.colab.notebook.generateWithVariable('df');\n",
              "      }\n",
              "      })();\n",
              "    </script>\n",
              "  </div>\n",
              "\n",
              "    </div>\n",
              "  </div>\n"
            ],
            "application/vnd.google.colaboratory.intrinsic+json": {
              "type": "dataframe",
              "variable_name": "df",
              "summary": "{\n  \"name\": \"df\",\n  \"rows\": 3,\n  \"fields\": [\n    {\n      \"column\": \"01\",\n      \"properties\": {\n        \"dtype\": \"number\",\n        \"std\": 169.33119421221045,\n        \"min\": 25.1,\n        \"max\": 322.5,\n        \"num_unique_values\": 3,\n        \"samples\": [\n          25.1,\n          33.5,\n          322.5\n        ],\n        \"semantic_type\": \"\",\n        \"description\": \"\"\n      }\n    },\n    {\n      \"column\": \"02\",\n      \"properties\": {\n        \"dtype\": \"number\",\n        \"std\": 138.9348048546512,\n        \"min\": 21.200000000000003,\n        \"max\": 264.40000000000003,\n        \"num_unique_values\": 3,\n        \"samples\": [\n          21.200000000000003,\n          26.400000000000002,\n          264.40000000000003\n        ],\n        \"semantic_type\": \"\",\n        \"description\": \"\"\n      }\n    },\n    {\n      \"column\": \"03\",\n      \"properties\": {\n        \"dtype\": \"number\",\n        \"std\": 117.15670417578899,\n        \"min\": 18.400000000000002,\n        \"max\": 223.0,\n        \"num_unique_values\": 3,\n        \"samples\": [\n          18.400000000000002,\n          21.8,\n          223.0\n        ],\n        \"semantic_type\": \"\",\n        \"description\": \"\"\n      }\n    },\n    {\n      \"column\": \"04\",\n      \"properties\": {\n        \"dtype\": \"number\",\n        \"std\": 108.14436339140998,\n        \"min\": 16.3,\n        \"max\": 204.8,\n        \"num_unique_values\": 3,\n        \"samples\": [\n          16.3,\n          18.7,\n          204.8\n        ],\n        \"semantic_type\": \"\",\n        \"description\": \"\"\n      }\n    },\n    {\n      \"column\": \"05\",\n      \"properties\": {\n        \"dtype\": \"number\",\n        \"std\": 70.81711186806005,\n        \"min\": 14.600000000000001,\n        \"max\": 138.1,\n        \"num_unique_values\": 3,\n        \"samples\": [\n          14.600000000000001,\n          16.3,\n          138.1\n        ],\n        \"semantic_type\": \"\",\n        \"description\": \"\"\n      }\n    },\n    {\n      \"column\": \"06\",\n      \"properties\": {\n        \"dtype\": \"number\",\n        \"std\": 52.30946377090861,\n        \"min\": 13.700000000000001,\n        \"max\": 104.7,\n        \"num_unique_values\": 3,\n        \"samples\": [\n          13.700000000000001,\n          14.5,\n          104.7\n        ],\n        \"semantic_type\": \"\",\n        \"description\": \"\"\n      }\n    },\n    {\n      \"column\": \"07\",\n      \"properties\": {\n        \"dtype\": \"number\",\n        \"std\": 246.03806616050292,\n        \"min\": 34.6,\n        \"max\": 498.90000000000003,\n        \"num_unique_values\": 3,\n        \"samples\": [\n          34.6,\n          125.60000000000001,\n          498.90000000000003\n        ],\n        \"semantic_type\": \"\",\n        \"description\": \"\"\n      }\n    },\n    {\n      \"column\": \"08\",\n      \"properties\": {\n        \"dtype\": \"number\",\n        \"std\": 244.61940506291265,\n        \"min\": 27.5,\n        \"max\": 462.5,\n        \"num_unique_values\": 3,\n        \"samples\": [\n          27.5,\n          51.1,\n          462.5\n        ],\n        \"semantic_type\": \"\",\n        \"description\": \"\"\n      }\n    },\n    {\n      \"column\": \"09\",\n      \"properties\": {\n        \"dtype\": \"number\",\n        \"std\": 258.1797113123596,\n        \"min\": 37.7,\n        \"max\": 498.90000000000003,\n        \"num_unique_values\": 3,\n        \"samples\": [\n          37.7,\n          67.2,\n          498.90000000000003\n        ],\n        \"semantic_type\": \"\",\n        \"description\": \"\"\n      }\n    },\n    {\n      \"column\": \"10\",\n      \"properties\": {\n        \"dtype\": \"number\",\n        \"std\": 229.17378413189704,\n        \"min\": 29.3,\n        \"max\": 432.20000000000005,\n        \"num_unique_values\": 3,\n        \"samples\": [\n          29.3,\n          41.5,\n          432.20000000000005\n        ],\n        \"semantic_type\": \"\",\n        \"description\": \"\"\n      }\n    },\n    {\n      \"column\": \"11\",\n      \"properties\": {\n        \"dtype\": \"number\",\n        \"std\": 194.7429416778265,\n        \"min\": 24.1,\n        \"max\": 385.90000000000003,\n        \"num_unique_values\": 3,\n        \"samples\": [\n          24.1,\n          80.10000000000001,\n          385.90000000000003\n        ],\n        \"semantic_type\": \"\",\n        \"description\": \"\"\n      }\n    },\n    {\n      \"column\": \"12\",\n      \"properties\": {\n        \"dtype\": \"number\",\n        \"std\": 172.58146868459932,\n        \"min\": 20.6,\n        \"max\": 357.1,\n        \"num_unique_values\": 3,\n        \"samples\": [\n          20.6,\n          122.30000000000001,\n          357.1\n        ],\n        \"semantic_type\": \"\",\n        \"description\": \"\"\n      }\n    }\n  ]\n}"
            }
          },
          "metadata": {},
          "execution_count": 14
        }
      ],
      "source": [
        "df = pd.DataFrame(data, columns=[f'{month:02}' for month in range(1, 13)])\n",
        "df.index = sorted_ids\n",
        "df"
      ]
    }
  ],
  "metadata": {
    "kernelspec": {
      "display_name": "Python 3 (ipykernel)",
      "language": "python",
      "name": "python3"
    },
    "language_info": {
      "codemirror_mode": {
        "name": "ipython",
        "version": 3
      },
      "file_extension": ".py",
      "mimetype": "text/x-python",
      "name": "python",
      "nbconvert_exporter": "python",
      "pygments_lexer": "ipython3",
      "version": "3.13.1"
    },
    "colab": {
      "provenance": []
    }
  },
  "nbformat": 4,
  "nbformat_minor": 5
}