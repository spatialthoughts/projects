{
 "cells": [
  {
   "cell_type": "markdown",
   "id": "51214181-3f7b-43d9-956e-79444b777b7c",
   "metadata": {},
   "source": [
    "# Extracting Time-Series from Cloud-Optimized GeoTIFFs (COGs)\n",
    "\n",
    "This notebook shows how to use rasterio to efficiently extract pixels values from cloud-optimized GeoTIFF files hosted on cloud-buckets.\n",
    "\n",
    "We leverage GDAL Virtual Rasters (VRT) to create a virtual stacked image from separate images and query them using `rasterio.sample`. This method is super fast and only fetches the data required for the pixels instead of the entire file."
   ]
  },
  {
   "cell_type": "code",
   "execution_count": 59,
   "id": "603faa67-0d26-4c85-8dda-9592f34d9207",
   "metadata": {},
   "outputs": [],
   "source": [
    "import os\n",
    "import rasterio\n",
    "from osgeo import gdal\n",
    "import tempfile\n",
    "import pandas as pd"
   ]
  },
  {
   "cell_type": "code",
   "execution_count": 3,
   "id": "6b03b8d5-92c2-423f-a523-4fe988827954",
   "metadata": {},
   "outputs": [],
   "source": [
    "os.environ['GS_NO_SIGN_REQUEST'] = 'YES'"
   ]
  },
  {
   "cell_type": "markdown",
   "id": "97712af7-88b5-4023-bd57-b6a65816cecb",
   "metadata": {},
   "source": [
    "In this example, we have a folder on Google Cloud Storage (GCS) has 12 files representing soil moisture for each month.\n",
    "\n",
    "```\n",
    "soil_moisture_202301.tif\n",
    "soil_moisture_202302.tif\n",
    "soil_moisture_202303.tif\n",
    "...\n",
    "```\n",
    "\n",
    "We want to sample pixel values from each of these at N different locations. "
   ]
  },
  {
   "cell_type": "markdown",
   "id": "b03b2afd-199f-414d-988b-ae9399d9fddb",
   "metadata": {},
   "source": [
    "### Creating a VRT\n",
    "\n",
    "This is a one-time process to create a VRT for efficient query of the datasets."
   ]
  },
  {
   "cell_type": "markdown",
   "id": "89fcdb35-573d-49dc-a35c-c61fe22d8274",
   "metadata": {},
   "source": [
    "### GDAL Command Line Tool\n",
    "\n",
    "One can use the GDAL command-line tool to create a VRT and place it in the same GCS bucket as the files. \n",
    "\n",
    "`gdalbuildvrt -input_file_list filelist.txt soil_moisture.vrt`\n",
    "\n",
    "The filelist would contain URLS of files with the `/vsigs` prefix.\n",
    "\n",
    "```\n",
    "/vsigs/spatialthoughts-public-data/terraclimate/soil_moisture_202301.tif\n",
    "/vsigs/spatialthoughts-public-data/terraclimate/soil_moisture_202301.tif\n",
    "/vsigs/spatialthoughts-public-data/terraclimate/soil_moisture_202301.tif\n",
    "...\n",
    "```\n"
   ]
  },
  {
   "cell_type": "markdown",
   "id": "79b73646-8ab6-46ca-8b64-67e67dd9cad3",
   "metadata": {},
   "source": [
    "### Using GDAL Python API"
   ]
  },
  {
   "cell_type": "code",
   "execution_count": null,
   "id": "0e4d3b03-a52b-4efa-920e-9820feb01b1b",
   "metadata": {},
   "outputs": [],
   "source": [
    "# Create a VRT file in the temp directory\n",
    "temp_dir = tempfile.gettempdir()\n",
    "vrt_file = 'soil_moisture.vrt'\n",
    "vrt_options = gdal.BuildVRTOptions(separate=True)\n",
    "vrt_file_path = os.path.join(temp_dir, vrt_file)\n",
    "\n",
    "# Add URLs to the files\n",
    "urls = []\n",
    "prefix = '/vsigs/spatialthoughts-public-data/terraclimate/'\n",
    "for month in range(1, 13):\n",
    "    image_id = f'soil_moisture_2023{month:02d}.tif'\n",
    "    path = prefix + image_id\n",
    "    urls.append(path)\n",
    "\n",
    "# Create the VRT\n",
    "gdal.BuildVRT(vrt_file_path, urls, options=vrt_options).FlushCache()"
   ]
  },
  {
   "cell_type": "markdown",
   "id": "b11d0ce6-ddd1-43ce-a66d-44877a74452b",
   "metadata": {},
   "source": [
    "Once done, copy the VRT to the same GCS bucket"
   ]
  },
  {
   "cell_type": "markdown",
   "id": "8e30a772-c35a-4381-955d-533f50327f3a",
   "metadata": {},
   "source": [
    "## Sampling Pixel Values"
   ]
  },
  {
   "cell_type": "code",
   "execution_count": 45,
   "id": "a6b42699-c0d8-4c13-ad5e-7c6735067d13",
   "metadata": {},
   "outputs": [],
   "source": [
    "vrt_file_path = '/vsigs/spatialthoughts-public-data/terraclimate/soil_moisture.vrt'"
   ]
  },
  {
   "cell_type": "code",
   "execution_count": 65,
   "id": "69a336f7-d90c-4e53-a3af-cc6e9097e026",
   "metadata": {},
   "outputs": [],
   "source": [
    "locations = [\n",
    "    ('Location 1', 80.449, 18.728),\n",
    "    ('Location 2', 79.1488, 15.2797),\n",
    "    ('Location 3', 74.656, 25.144)\n",
    "]"
   ]
  },
  {
   "cell_type": "markdown",
   "id": "b1460b32-7ce8-48ac-900a-0d8397d6e9fe",
   "metadata": {},
   "source": [
    "Sorting coordinates by X and then Y provides better performance"
   ]
  },
  {
   "cell_type": "code",
   "execution_count": 66,
   "id": "a2a9c613-9318-494d-8a8b-9e89545c41b2",
   "metadata": {},
   "outputs": [],
   "source": [
    "sorted_locations = sorted(locations, key=lambda loc: (loc[1], loc[2]))\n",
    "sorted_ids = [loc[0] for loc in sorted_locations]\n",
    "sorted_coords = [(loc[1], loc[2]) for loc in sorted_locations]"
   ]
  },
  {
   "cell_type": "markdown",
   "id": "a5453359-40b4-4ac0-939c-d1da1be4fc7d",
   "metadata": {},
   "source": [
    "Sample the VRT using `rasterio.sample()`"
   ]
  },
  {
   "cell_type": "code",
   "execution_count": 67,
   "id": "10840fea-23f1-4482-b90c-1fdbabc45456",
   "metadata": {},
   "outputs": [
    {
     "name": "stdout",
     "output_type": "stream",
     "text": [
      "CPU times: user 60.2 ms, sys: 15.4 ms, total: 75.6 ms\n",
      "Wall time: 76.6 ms\n"
     ]
    }
   ],
   "source": [
    "%%time\n",
    "with rasterio.open(vrt_file_path) as src:\n",
    "    samples = rasterio.sample.sample_gen(src, sorted_coords)\n",
    "    data = list(samples)"
   ]
  },
  {
   "cell_type": "markdown",
   "id": "42b52119-2838-448a-b9c9-bc5f4f7f26b1",
   "metadata": {},
   "source": [
    "Convert to a DataFrame"
   ]
  },
  {
   "cell_type": "code",
   "execution_count": 68,
   "id": "3d684f9d-2bb3-40b2-86dc-e1afae90a97f",
   "metadata": {},
   "outputs": [
    {
     "data": {
      "text/html": [
       "<div>\n",
       "<style scoped>\n",
       "    .dataframe tbody tr th:only-of-type {\n",
       "        vertical-align: middle;\n",
       "    }\n",
       "\n",
       "    .dataframe tbody tr th {\n",
       "        vertical-align: top;\n",
       "    }\n",
       "\n",
       "    .dataframe thead th {\n",
       "        text-align: right;\n",
       "    }\n",
       "</style>\n",
       "<table border=\"1\" class=\"dataframe\">\n",
       "  <thead>\n",
       "    <tr style=\"text-align: right;\">\n",
       "      <th></th>\n",
       "      <th>01</th>\n",
       "      <th>02</th>\n",
       "      <th>03</th>\n",
       "      <th>04</th>\n",
       "      <th>05</th>\n",
       "      <th>06</th>\n",
       "      <th>07</th>\n",
       "      <th>08</th>\n",
       "      <th>09</th>\n",
       "      <th>10</th>\n",
       "      <th>11</th>\n",
       "      <th>12</th>\n",
       "    </tr>\n",
       "  </thead>\n",
       "  <tbody>\n",
       "    <tr>\n",
       "      <th>Location 3</th>\n",
       "      <td>25.1</td>\n",
       "      <td>21.2</td>\n",
       "      <td>18.4</td>\n",
       "      <td>16.3</td>\n",
       "      <td>14.6</td>\n",
       "      <td>13.7</td>\n",
       "      <td>34.6</td>\n",
       "      <td>27.5</td>\n",
       "      <td>37.7</td>\n",
       "      <td>29.3</td>\n",
       "      <td>24.1</td>\n",
       "      <td>20.6</td>\n",
       "    </tr>\n",
       "    <tr>\n",
       "      <th>Location 2</th>\n",
       "      <td>33.5</td>\n",
       "      <td>26.4</td>\n",
       "      <td>21.8</td>\n",
       "      <td>18.7</td>\n",
       "      <td>16.3</td>\n",
       "      <td>14.5</td>\n",
       "      <td>125.6</td>\n",
       "      <td>51.1</td>\n",
       "      <td>67.2</td>\n",
       "      <td>41.5</td>\n",
       "      <td>80.1</td>\n",
       "      <td>122.3</td>\n",
       "    </tr>\n",
       "    <tr>\n",
       "      <th>Location 1</th>\n",
       "      <td>322.5</td>\n",
       "      <td>264.4</td>\n",
       "      <td>223.0</td>\n",
       "      <td>204.8</td>\n",
       "      <td>138.1</td>\n",
       "      <td>104.7</td>\n",
       "      <td>498.9</td>\n",
       "      <td>462.5</td>\n",
       "      <td>498.9</td>\n",
       "      <td>432.2</td>\n",
       "      <td>385.9</td>\n",
       "      <td>357.1</td>\n",
       "    </tr>\n",
       "  </tbody>\n",
       "</table>\n",
       "</div>"
      ],
      "text/plain": [
       "               01     02     03     04     05     06     07     08     09  \\\n",
       "Location 3   25.1   21.2   18.4   16.3   14.6   13.7   34.6   27.5   37.7   \n",
       "Location 2   33.5   26.4   21.8   18.7   16.3   14.5  125.6   51.1   67.2   \n",
       "Location 1  322.5  264.4  223.0  204.8  138.1  104.7  498.9  462.5  498.9   \n",
       "\n",
       "               10     11     12  \n",
       "Location 3   29.3   24.1   20.6  \n",
       "Location 2   41.5   80.1  122.3  \n",
       "Location 1  432.2  385.9  357.1  "
      ]
     },
     "execution_count": 68,
     "metadata": {},
     "output_type": "execute_result"
    }
   ],
   "source": [
    "df = pd.DataFrame(data, columns=[f'{month:02}' for month in range(1, 13)])\n",
    "df.index = sorted_ids\n",
    "df"
   ]
  }
 ],
 "metadata": {
  "kernelspec": {
   "display_name": "Python 3 (ipykernel)",
   "language": "python",
   "name": "python3"
  },
  "language_info": {
   "codemirror_mode": {
    "name": "ipython",
    "version": 3
   },
   "file_extension": ".py",
   "mimetype": "text/x-python",
   "name": "python",
   "nbconvert_exporter": "python",
   "pygments_lexer": "ipython3",
   "version": "3.13.1"
  }
 },
 "nbformat": 4,
 "nbformat_minor": 5
}
